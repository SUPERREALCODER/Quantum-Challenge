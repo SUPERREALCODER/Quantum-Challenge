{
 "cells": [
  {
   "cell_type": "markdown",
   "id": "4af808c4",
   "metadata": {},
   "source": [
    "# International Faculty Development Program on _“Quantum Artificial Intelligence”_"
   ]
  },
  {
   "cell_type": "markdown",
   "id": "2268cdac",
   "metadata": {},
   "source": [
    "### Quantum $k$-means Clustering Algorithm\n",
    "\n",
    "- $k$ means clustering is a unsupervised machine learning algorithm used for clustering.\n",
    "- The objective of this algorithm is essentially a grouping of datapoints based on how similar and different they are to one another.\n",
    "- This algorithm finds $k$ centers for $k$ different clusters and assigns data points to one of the K clusters depending on their distance from the center of the clusters.\n",
    "\n",
    "![k_means](https://miro.medium.com/v2/resize:fit:720/format:webp/1*fz-rjYPPRlGEMdTI-RLbDg.png)\n",
    "\n",
    "__Algorithm__\n",
    "\n",
    "`Input:`\n",
    "* Datapoints $\\{\\mathbf x_0,\\mathbf x_1,\\dots,\\mathbf x_{n-1}\\}$.\n",
    "* Labels $\\{y_0,y_1,\\dots,y_{n-1}\\}$.\n",
    "* [optional] Number of cluster $k$.\n",
    "\n",
    "`Output:` $k$ different clusters.\n",
    "\n",
    "1. Initialize random centers for each cluster.\n",
    "2. Assign each datapoints with their nearest center. This will generate initial $k$ clusters. (Here we will use swap test)\n",
    "3. Calculate new centers for each cluster taking mean over datapoints assign to the cluster.\n",
    "4. Repeat step 2 and 3 until convergence.\n",
    "\n",
    "__This algorithm may not converge correctly if initial choice of center is bad.__"
   ]
  },
  {
   "cell_type": "code",
   "execution_count": null,
   "id": "c3127a93",
   "metadata": {},
   "outputs": [],
   "source": [
    "def swap_test(qc, swap):\n",
    "    '''Performs swap test and return probability of |0⟩\n",
    "    Arguments:\n",
    "        qc: A quantum circuit to perform swap test\n",
    "        swap: Target qubits (to be swapped)\n",
    "    '''\n",
    "    from qiskit_aer import AerSimulator\n",
    "    from qiskit import ClassicalRegister, QuantumRegister\n",
    "    simulator = AerSimulator()\n",
    "    \n",
    "    meas = ClassicalRegister(1)\n",
    "    targ = QuantumRegister(1)\n",
    "    qc.add_register(meas, targ)\n",
    "    qc.h(targ)\n",
    "    qc.cswap(targ, swap[0], swap[1])\n",
    "    qc.h(targ)\n",
    "    qc.measure(targ, 0)\n",
    "    \n",
    "    shots = 1000\n",
    "    \n",
    "    counts = simulator.run(qc, shots = shots).result().get_counts()\n",
    "    \n",
    "    return counts['0']/shots"
   ]
  },
  {
   "cell_type": "code",
   "execution_count": null,
   "id": "930780b3",
   "metadata": {},
   "outputs": [],
   "source": [
    "def get_Distance(A, B, sim):\n",
    "    '''Calculates distance between two vectors A and B using swap test'''\n",
    "    from numpy import linalg, sqrt, log2\n",
    "    from qiskit import QuantumRegister, QuantumCircuit\n",
    "\n",
    "    norm_A = linalg.norm(A) \n",
    "    norm_B = linalg.norm(B)\n",
    "    C = norm_A**2 + norm_B**2\n",
    "\n",
    "    # Create phi and psi state with the data\n",
    "    psi = [norm_A/sqrt(C), -norm_B/sqrt(C)]\n",
    "    phi = [a/(norm_A*sqrt(2)) for a in A] + [b/(norm_B*sqrt(2)) for b in B]\n",
    "\n",
    "\n",
    "    q1 = QuantumRegister(1, name = 'psi')\n",
    "    q2 = QuantumRegister(int(log2(len(A)))+1, name = 'phi')\n",
    "    qc = QuantumCircuit(q1,q2)\n",
    "\n",
    "    # States initialization\n",
    "    qc.initialize(psi, q1)\n",
    "    qc.initialize(phi, q2)\n",
    "\n",
    "    # Apply SWAP test\n",
    "    return 2*C*(2*swap_test(qc, (q1, q2[-1]), sim) - 1)"
   ]
  },
  {
   "cell_type": "code",
   "execution_count": null,
   "id": "44ea829e",
   "metadata": {},
   "outputs": [],
   "source": [
    "def find_nearest_neighbour(points, centers, sim):\n",
    "    '''Finds nearest center for each data points and assign label accordingly\n",
    "    Arguments:\n",
    "        points: Data points\n",
    "        center: Current centers of the clusters\n",
    "    '''\n",
    "    from numpy import zeros\n",
    "    \n",
    "    n = len(points)\n",
    "    k = centers.shape[0]\n",
    "    labels = zeros(n)\n",
    "    \n",
    "    # Loop over all data points\n",
    "    for i in range(n):\n",
    "        min_dist = 10000\n",
    "        ind = 0\n",
    "        \n",
    "        # Find nearest center for data point\n",
    "        # Later we will see that this can be done in one call using quantum parallelism\n",
    "        for j in range(k):\n",
    "            temp_dist = get_Distance(points[i,:], centers[j,:], sim)\n",
    "            if temp_dist < min_dist:\n",
    "                min_dist = temp_dist\n",
    "                ind = j\n",
    "                \n",
    "        # Assign nearest label\n",
    "        labels[i] = ind\n",
    "    \n",
    "    return labels"
   ]
  },
  {
   "cell_type": "code",
   "execution_count": null,
   "id": "8c5921e4",
   "metadata": {},
   "outputs": [],
   "source": [
    "def find_centers(points, labels):\n",
    "    '''Finds new centers based on new labels\n",
    "    Arguments:\n",
    "        points: Data points\n",
    "        labels: Data labels\n",
    "    '''\n",
    "    from numpy import zeros, max as mx, average\n",
    "    \n",
    "    n = len(points)\n",
    "    k = int(mx(labels))+1\n",
    "   \n",
    "    centers = zeros([k,2])\n",
    "    \n",
    "    # Calculate new centers for clusters by taking average of all data points from corresponding cluster\n",
    "    for i in range(k):\n",
    "        centers[i,:] = average(points[labels==i], axis = 0)\n",
    "        \n",
    "    return centers"
   ]
  },
  {
   "cell_type": "code",
   "execution_count": null,
   "id": "a1a1c194",
   "metadata": {},
   "outputs": [],
   "source": [
    "from numpy import ndarray\n",
    "from numpy.random import randint\n",
    "from sklearn.datasets import make_blobs\n",
    "from matplotlib.pyplot import subplots, scatter, show\n",
    "\n",
    "# Create data points\n",
    "data_size = 100\n",
    "centers = [[0, 0], [2, 0], [2, 4]]\n",
    "points, labels = make_blobs(n_samples = data_size, n_features = 2, centers = centers, cluster_std = 0.5)\n",
    "\n",
    "# Initialize with random centers\n",
    "centers = points[randint(points.shape[0], size = len(centers)),:]\n",
    "\n",
    "# Visualize the data\n",
    "_, ax = subplots(1, 1)\n",
    "scatter(points[:,0], points[:,1])\n",
    "scatter(centers[:,0], centers[:,1], c = 'red', marker = 's')\n",
    "show()"
   ]
  },
  {
   "cell_type": "code",
   "execution_count": null,
   "id": "465054be",
   "metadata": {
    "scrolled": false
   },
   "outputs": [],
   "source": [
    "for _ in range(5):\n",
    "    labels = find_nearest_neighbour(points, centers, True)\n",
    "    # Find new centers\n",
    "    new_centers = find_centers(points, labels)\n",
    "    \n",
    "    # Visualize the classification\n",
    "    _, ax = subplots(1, 1)\n",
    "    scatter(points[:,0], points[:,1], c = labels, cmap = 'viridis')\n",
    "    scatter(centers[:,0], centers[:,1], c = 'red', marker = 's')\n",
    "    scatter(new_centers[:,0], new_centers[:,1], c = 'green', marker = 's')\n",
    "    show()\n",
    "    \n",
    "    # Assign new centers\n",
    "    centers = new_centers"
   ]
  },
  {
   "cell_type": "markdown",
   "id": "9898b8a1",
   "metadata": {},
   "source": [
    "#### Reference\n",
    "\n",
    "1. S. DiAdamo, C. O’Meara, G. Cortiana and J. Bernabé-Moreno, \"Practical Quantum K-Means Clustering: Performance Analysis and Applications in Energy Grid Classification,\" in IEEE Transactions on Quantum Engineering, vol. 3, pp. 1-16, 2022.\n",
    "2. https://www.geeksforgeeks.org/k-means-clustering-introduction/"
   ]
  }
 ],
 "metadata": {
  "kernelspec": {
   "display_name": "Python 3 (ipykernel)",
   "language": "python",
   "name": "python3"
  },
  "language_info": {
   "codemirror_mode": {
    "name": "ipython",
    "version": 3
   },
   "file_extension": ".py",
   "mimetype": "text/x-python",
   "name": "python",
   "nbconvert_exporter": "python",
   "pygments_lexer": "ipython3",
   "version": "3.10.12"
  }
 },
 "nbformat": 4,
 "nbformat_minor": 5
}
