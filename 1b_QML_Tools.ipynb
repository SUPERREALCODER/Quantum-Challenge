{
 "cells": [
  {
   "cell_type": "markdown",
   "id": "5d133f35",
   "metadata": {},
   "source": [
    "# International Faculty Development Program on _“Quantum Artificial Intelligence”_"
   ]
  },
  {
   "cell_type": "markdown",
   "id": "d7eb8788",
   "metadata": {},
   "source": [
    "## Quantum Machine Learning Tools"
   ]
  },
  {
   "cell_type": "markdown",
   "id": "11c97b09",
   "metadata": {},
   "source": [
    "#### Contents\n",
    "\n",
    "1. Amplitude Encoding.\n",
    "2. Swap Test.\n",
    "3. Quantum Fourier Transformation (QFT).\n",
    "4. Quantum Phase Estimation (QPE).\n",
    "5. Harrow–Hassidim–Lloyd (HHL) Algorithm."
   ]
  },
  {
   "cell_type": "markdown",
   "id": "2e2aee8b",
   "metadata": {},
   "source": [
    "### Amplitude Encoding\n",
    "\n",
    "Let $\\mathbf{x}=\\begin{pmatrix}x_0\\\\x_1\\\\\\vdots\\\\x_{N-1}\\end{pmatrix}$ be a unit vector for $N=2^n$ for some $n$. Then the corresponding quantum state would be $$|x\\rangle=\\sum_{i=0}^{N-1}x_i|i\\rangle.$$ where $\\{|i\\rangle\\}_i$ is an orthonormal basis."
   ]
  },
  {
   "cell_type": "code",
   "execution_count": null,
   "id": "0209ad3d",
   "metadata": {},
   "outputs": [],
   "source": [
    "from qiskit import QuantumCircuit, ClassicalRegister, QuantumRegister, transpile\n",
    "from qiskit.visualization import plot_histogram\n",
    "from math import sqrt\n",
    "from qiskit_aer import AerSimulator\n",
    "\n",
    "x = [sqrt(0.03),\n",
    "     sqrt(0.07),\n",
    "     sqrt(0.15),\n",
    "     sqrt(0.05),\n",
    "     sqrt(0.1),\n",
    "     sqrt(0.3),\n",
    "     sqrt(0.2),\n",
    "     sqrt(0.1)]"
   ]
  },
  {
   "cell_type": "code",
   "execution_count": null,
   "id": "ca0e2d10",
   "metadata": {},
   "outputs": [],
   "source": [
    "qc = QuantumCircuit(3)\n",
    "qc.initialize(x, [0,1,2])\n",
    "qc.decompose().decompose().decompose().decompose().decompose().decompose().draw('mpl')"
   ]
  },
  {
   "cell_type": "code",
   "execution_count": null,
   "id": "fe8f9ddf",
   "metadata": {},
   "outputs": [],
   "source": [
    "qc.measure_all()\n",
    "\n",
    "simulator = AerSimulator()\n",
    "result = simulator.run(qc, shots = 100000).result()\n",
    "counts = result.get_counts()\n",
    "print(\"\\nTotal count are:\",counts)\n",
    "plot_histogram(counts)"
   ]
  },
  {
   "cell_type": "code",
   "execution_count": null,
   "id": "dfd475ff",
   "metadata": {},
   "outputs": [],
   "source": [
    "from qiskit.visualization import plot_distribution\n",
    "\n",
    "plot_distribution(counts)"
   ]
  },
  {
   "cell_type": "markdown",
   "id": "30d244aa",
   "metadata": {},
   "source": [
    "### Swap test\n",
    "\n",
    "Swap test gives inner product $\\langle\\phi|\\psi\\rangle$ of two vectors $|\\phi\\rangle$ and $|\\psi\\rangle$. Consider the following circuit:\n",
    "![SWAP test circuit](https://upload.wikimedia.org/wikipedia/commons/d/d6/Quantum-swap-test-circuit-correct.png)\n",
    "\n",
    "This circuit performs a `swap test` for $|\\phi\\rangle$ and $|\\psi\\rangle$. Depending on the measurement outcome, the inner product betwen these two vectors would be given by, $$|\\langle\\phi|\\psi\\rangle|\\approx\\sqrt{2\\cdot P(|0\\rangle)-1}=\\sqrt{1-2\\cdot P(|1\\rangle)}.$$ Note that fidelity is given by $|\\langle\\phi|\\psi\\rangle|^2.$"
   ]
  },
  {
   "cell_type": "code",
   "execution_count": null,
   "id": "a281cd35",
   "metadata": {},
   "outputs": [],
   "source": [
    "# Choose two vector randomly\n",
    "from qiskit.quantum_info import random_statevector\n",
    "\n",
    "phi = random_statevector(2)\n",
    "psi = random_statevector(2)\n",
    "phi, psi"
   ]
  },
  {
   "cell_type": "code",
   "execution_count": null,
   "id": "0b99ec57",
   "metadata": {},
   "outputs": [],
   "source": [
    "# Perform SWAP test\n",
    "swap = QuantumCircuit(3, 1)\n",
    "swap.initialize(phi, 1)\n",
    "swap.initialize(psi, 2)\n",
    "swap.h(0)\n",
    "swap.cswap(0, 1, 2)\n",
    "swap.h(0)\n",
    "swap.measure(0, 0)\n",
    "swap.draw('mpl')"
   ]
  },
  {
   "cell_type": "code",
   "execution_count": null,
   "id": "c9679a69",
   "metadata": {},
   "outputs": [],
   "source": [
    "result = simulator.run(swap).result()\n",
    "counts = result.get_counts()\n",
    "print(f'Counts: {counts}')\n",
    "\n",
    "# Calculate the probability\n",
    "prob = {'0': counts['0']/(counts['0']+counts['1']), '1': counts['1']/(counts['0']+counts['1'])}\n",
    "print(f'Probabilities: {prob}')"
   ]
  },
  {
   "cell_type": "code",
   "execution_count": null,
   "id": "31b5e80a",
   "metadata": {},
   "outputs": [],
   "source": [
    "# Find the inner product\n",
    "inner_product = sqrt(2*prob['0']-1)\n",
    "print(f'square of inner product = {inner_product}')\n",
    "\n",
    "from qiskit.quantum_info import state_fidelity\n",
    "\n",
    "print(f'fidelity = {state_fidelity(phi, psi)}')"
   ]
  },
  {
   "cell_type": "markdown",
   "id": "db0aa90e",
   "metadata": {},
   "source": [
    "Another application of swap test is calculating distance between two vectors. Let $|A\\rangle,|B\\rangle$ be two vectors. Define $$\\begin{aligned}|\\phi\\rangle&:=\\frac{1}{\\sqrt{2}}\\left[|0\\rangle\\otimes|A\\rangle+|1\\rangle\\otimes|B\\rangle\\right],\\\\|\\psi\\rangle&:=\\frac{1}{\\sqrt{C}}\\left[|A||0\\rangle-|B||1\\rangle\\right],\\end{aligned}$$ where $C=|A|^2+|B|^2$.\n",
    "\n",
    "Then the swap test for $|\\psi\\rangle$ and first qubit of $|\\phi\\rangle$ gives $$|A-B|^2=2C(2P(|0\\rangle)-1).$$"
   ]
  },
  {
   "cell_type": "code",
   "execution_count": null,
   "id": "e0857fe0",
   "metadata": {},
   "outputs": [],
   "source": [
    "def swap_test(qc, swap):\n",
    "    '''Performs swap test and return probability of |0⟩\n",
    "    Arguments:\n",
    "        qc: A quantum circuit to perform swap test\n",
    "        swap: Target qubits (to be swapped)\n",
    "    '''\n",
    "    \n",
    "    meas = ClassicalRegister(1)\n",
    "    targ = QuantumRegister(1)\n",
    "    qc.add_register(meas, targ)\n",
    "    qc.h(targ)\n",
    "    qc.cswap(targ, swap[0], swap[1])\n",
    "    qc.h(targ)\n",
    "    qc.measure(targ, 0)\n",
    "    \n",
    "    counts = simulator.run(qc).result().get_counts()\n",
    "    \n",
    "    return counts['0']/(counts['0']+counts['1'])"
   ]
  },
  {
   "cell_type": "code",
   "execution_count": null,
   "id": "f30593cd",
   "metadata": {},
   "outputs": [],
   "source": [
    "from numpy import linalg, log2\n",
    "\n",
    "# Given A and B\n",
    "A = [2.5, 1.8]\n",
    "B = [0.1, 0.3]\n",
    "\n",
    "norm_A = linalg.norm(A) \n",
    "norm_B = linalg.norm(B)\n",
    "Dist = 0\n",
    "for i in range(len(A)):\n",
    "    Dist += (A[i] - B[i]) ** 2\n",
    "  \n",
    "Dist = sqrt(Dist)\n",
    "C = norm_A**2 + norm_B**2\n",
    "\n",
    "# Create phi and psi state with the data\n",
    "psi = [norm_A/sqrt(C), -norm_B/sqrt(C)]\n",
    "phi = [a/(norm_A*sqrt(2)) for a in A] + [b/(norm_B*sqrt(2)) for b in B]\n",
    "    \n",
    "\n",
    "q1 = QuantumRegister(1, name = 'psi')\n",
    "q2 = QuantumRegister(int(log2(len(A)))+1, name = 'phi')\n",
    "qc = QuantumCircuit(q1,q2)\n",
    "\n",
    "# States initialization\n",
    "qc.initialize(psi, q1)\n",
    "qc.initialize(phi, q2)\n",
    "\n",
    "# Apply SWAP test\n",
    "prob = swap_test(qc, (q1, q2[-1]))\n",
    "dist = sqrt(2*C*(2*prob - 1))\n",
    "\n",
    "print('Quantum Distance: ', round(dist,3))\n",
    "print('Euclidean Distance: ',round(Dist,3))\n",
    "\n",
    "qc.draw('mpl')"
   ]
  },
  {
   "cell_type": "markdown",
   "id": "c4ec38a3",
   "metadata": {},
   "source": [
    "### Quantum Fourier Transformation (QFT)\n",
    "\n",
    "The discrete Fourier transform acts on a vector $(x_0, ..., x_{N-1})$ and maps it to the vector $(y_0, ..., y_{N-1})$ according to the formula\n",
    "\n",
    "\n",
    "$$y_k = \\frac{1}{\\sqrt{N}}\\sum_{j=0}^{N-1}x_j\\omega_N^{jk}$$\n",
    "\n",
    "\n",
    "where $\\omega_N^{jk} = e^{2\\pi i \\frac{jk}{N}}$.\n",
    "\n",
    "Similarly, the quantum Fourier transform acts on a quantum state $\\vert X\\rangle = \\sum_{j=0}^{N-1} x_j \\vert j \\rangle$ and maps it to the quantum state $\\vert Y\\rangle = \\sum_{k=0}^{N-1} y_k \\vert k \\rangle$ according to the formula\n",
    "\n",
    "\n",
    "$$y_k = \\frac{1}{\\sqrt{N}}\\sum_{j=0}^{N-1}x_j\\omega_N^{jk}$$\n",
    "\n",
    "\n",
    "with $\\omega_N^{jk}$ defined as above. Note that only the amplitudes of the state were affected by this transformation.\n",
    "\n",
    "This can also be expressed as the map:\n",
    "\n",
    "\n",
    "$$\\vert j \\rangle \\mapsto \\frac{1}{\\sqrt{N}}\\sum_{k=0}^{N-1}\\omega_N^{jk} \\vert k \\rangle$$\n",
    "\n",
    "\n",
    "\n",
    "Or the unitary matrix:\n",
    "\n",
    "\n",
    "$$ U_{QFT} = \\frac{1}{\\sqrt{N}} \\sum_{j=0}^{N-1} \\sum_{k=0}^{N-1} \\omega_N^{jk} \\vert k \\rangle \\langle j \\vert$$\n",
    "\n",
    "The quantum Fourier transform (QFT) transforms between two bases, the computational (Z) basis, and the Fourier basis. The H-gate is the single-qubit QFT, and it transforms between the Z-basis states $|0\\rangle$ and $|1\\rangle$ to the X-basis states $|{+}\\rangle$ and $|{-}\\rangle$. In the same way, all multi-qubit states in the computational basis have corresponding states in the Fourier basis. The QFT is simply the function that transforms between these bases.\n",
    "\n",
    "$$\n",
    "|\\text{State in Computational Basis}\\rangle \\quad \\xrightarrow[]{\\text{QFT}} \\quad |\\text{State in Fourier Basis}\\rangle\n",
    "$$\n",
    "\n",
    "$$\n",
    "\\text{QFT}|x\\rangle = |\\widetilde{x}\\rangle\n",
    "$$\n",
    "\n",
    "(We often note states in the Fourier basis using the tilde (~))."
   ]
  },
  {
   "cell_type": "code",
   "execution_count": null,
   "id": "136a0696",
   "metadata": {},
   "outputs": [],
   "source": [
    "# Import qiskit's in-built QFT\n",
    "from qiskit.circuit.library import QFT\n",
    "\n",
    "num_qubits = 3\n",
    "\n",
    "qc = QuantumCircuit(num_qubits)\n",
    "qc = qc.compose(QFT(num_qubits))\n",
    "qc.decompose().draw('mpl')"
   ]
  },
  {
   "cell_type": "code",
   "execution_count": null,
   "id": "895531aa",
   "metadata": {},
   "outputs": [],
   "source": [
    "# Example QFT\n",
    "qc = QuantumCircuit(num_qubits)\n",
    "qc.x([0, 1])\n",
    "qc.draw('mpl')"
   ]
  },
  {
   "cell_type": "code",
   "execution_count": null,
   "id": "e08ef99b",
   "metadata": {},
   "outputs": [],
   "source": [
    "# Visualize the state before QFT\n",
    "from qiskit.visualization import plot_bloch_multivector\n",
    "\n",
    "simulator = AerSimulator(method = 'statevector')\n",
    "qc_init = qc.copy()\n",
    "qc_init.save_statevector()\n",
    "statevector = simulator.run(qc_init).result().get_statevector()\n",
    "plot_bloch_multivector(statevector)"
   ]
  },
  {
   "cell_type": "code",
   "execution_count": null,
   "id": "6eb96c3f",
   "metadata": {},
   "outputs": [],
   "source": [
    "# Apply QFT\n",
    "qc = qc.compose(QFT(num_qubits).decompose())\n",
    "qc.draw('mpl')"
   ]
  },
  {
   "cell_type": "code",
   "execution_count": null,
   "id": "a360cca9",
   "metadata": {},
   "outputs": [],
   "source": [
    "# Visualize the state after QFT\n",
    "qc.save_statevector()\n",
    "statevector = simulator.run(qc).result().get_statevector()\n",
    "plot_bloch_multivector(statevector)"
   ]
  },
  {
   "cell_type": "markdown",
   "id": "7972f398",
   "metadata": {},
   "source": [
    "### Quantum Phase Estimation (QPE)\n",
    "\n",
    "Let $U$ be a unitary acts on some $|\\psi\\rangle$ such that $U|\\psi\\rangle=e^{2\\pi i\\theta}|\\psi\\rangle.$ This global phase cannot be estimated by measuring the state. QPE provides efficient estimate for this $\\theta$.\n",
    "\n",
    "This protocol starts with $|\\psi\\rangle|0\\rangle^{\\otimes n}$, and ended up with $\\frac {1}{2^n}\\sum _{x=0}^{2^{n}-1}\\sum _{k=0}^{2^{n}-1}e^{-\\frac{2\\pi i k}{2^n}(x - 2^n \\theta)}|\\psi\\rangle|x\\rangle\\approx|\\psi\\rangle|y\\rangle$ for $y=2^n\\theta$. Therefore $\\theta=\\frac{y}{2^n}$.\n",
    "\n",
    "Let us choose the unitary as $Z$ gate ($\\sigma_z$ operation) acting upon the state $|1\\rangle$. In this case, $e^{2\\pi i\\theta}=-1$. Therefore, $\\theta = m + \\frac{1}{2}$ for some non-negative integer $m$."
   ]
  },
  {
   "cell_type": "code",
   "execution_count": null,
   "id": "8f7adbd5",
   "metadata": {},
   "outputs": [],
   "source": [
    "# Import qiskit's in-built QPE\n",
    "from qiskit.circuit.library import PhaseEstimation as QPE\n",
    "from qiskit.circuit.library import ZGate\n",
    "\n",
    "num_qubits = 3\n",
    "\n",
    "qc = QuantumCircuit(num_qubits+1)\n",
    "qc = qc.compose(QPE(num_qubits, ZGate()))\n",
    "qc.decompose().draw('mpl')"
   ]
  },
  {
   "cell_type": "code",
   "execution_count": null,
   "id": "c0278f6e",
   "metadata": {},
   "outputs": [],
   "source": [
    "# Start with the state\n",
    "qc = QuantumCircuit(num_qubits+1, num_qubits)\n",
    "qc.x(-1)\n",
    "qc = qc.compose(QPE(num_qubits, ZGate()).decompose().decompose())\n",
    "for i in range(num_qubits>1):\n",
    "    qc.swap(i, num_qubits-1)\n",
    "qc.measure(range(num_qubits), range(num_qubits))\n",
    "qc.draw('mpl')"
   ]
  },
  {
   "cell_type": "code",
   "execution_count": null,
   "id": "614a2fe3",
   "metadata": {},
   "outputs": [],
   "source": [
    "result = simulator.run(qc).result()\n",
    "counts = result.get_counts()\n",
    "plot_distribution(counts)"
   ]
  },
  {
   "cell_type": "code",
   "execution_count": null,
   "id": "fac920d6",
   "metadata": {},
   "outputs": [],
   "source": [
    "# Get result with maximum probability\n",
    "max_count = 0\n",
    "res = 0\n",
    "for key, value in counts.items():\n",
    "    if value > max_count:\n",
    "        res = int(key, 2)\n",
    "\n",
    "theta = res/(2**num_qubits)\n",
    "\n",
    "print('theta = ', theta)"
   ]
  },
  {
   "cell_type": "markdown",
   "id": "d75daeef",
   "metadata": {},
   "source": [
    "### Harrow–Hassidim–Lloyd (HHL) Algorithm\n",
    "\n",
    "To solve `system of linear equations` of the form $\\mathbf{Ax=b}$, where $\\mathbf{A}$ and $\\mathbf{b}$ are known.\n",
    "![HHL Algorithm](https://www.researchgate.net/profile/Amit-Anand-14/publication/335836247/figure/fig1/AS:803721852252161@1568633630764/HHL-Algorithm-Schematic-a-Phase-estimation-b-R-l-1-rotation-c-Uncomputation_W640.jpg)\n",
    "\n",
    "We wll take $\\mathbf{A}=\\begin{pmatrix}1&-\\frac{1}{3}\\\\-\\frac{1}{3}&1\\end{pmatrix}$ and $\\mathbf{b}=\\begin{pmatrix}2\\\\0\\end{pmatrix}$. Then $\\mathbf{x=A^{-1}b}=\\begin{pmatrix}\\frac{9}{4}\\\\\\frac{3}{4}\\end{pmatrix}=\\begin{pmatrix}2.25\\\\0.75\\end{pmatrix}$.<br>\n",
    "Here we have taken, $U=e^{-iA}$."
   ]
  },
  {
   "cell_type": "code",
   "execution_count": null,
   "id": "70873382",
   "metadata": {},
   "outputs": [],
   "source": [
    "from math import pi, log2\n",
    "from qiskit.quantum_info import Operator\n",
    "from qiskit.circuit.library import HamiltonianGate\n",
    "\n",
    "def phase_est(n, l, A, qc):\n",
    "    clock = QuantumRegister(n, name = 'clock')\n",
    "    qc.add_register(clock)\n",
    "    \n",
    "    # create gate U_A\n",
    "    gate = HamiltonianGate(A, 1)\n",
    "\n",
    "    # Perform QPE\n",
    "    qc.append(QPE(n, gate), range(n+l)[::-1])\n",
    "    \n",
    "    return gate\n",
    "\n",
    "def rotation(n, l, qc):\n",
    "    ancilla = QuantumRegister(1, name = 'ancilla')\n",
    "    qc.add_register(ancilla)\n",
    "    \n",
    "    # Perform rotation\n",
    "    for i in range(l, n+l):\n",
    "        qc.cry(pi/2**i, i, ancilla)"
   ]
  },
  {
   "cell_type": "code",
   "execution_count": null,
   "id": "49005afd",
   "metadata": {},
   "outputs": [],
   "source": [
    "A = Operator([[1, -1/3], [-1/3, 1]])\n",
    "b = [2, 0]\n",
    "n = 3\n",
    "l = int(log2(len(b)))\n",
    "\n",
    "# Initialize with b\n",
    "circ = QuantumCircuit(l)\n",
    "circ.initialize(b/linalg.norm(b))\n",
    "circ.barrier()\n",
    "circ.draw('mpl')"
   ]
  },
  {
   "cell_type": "code",
   "execution_count": null,
   "id": "1366ce0c",
   "metadata": {},
   "outputs": [],
   "source": [
    "# Perform QPE\n",
    "gate = phase_est(n, l, A, circ)\n",
    "circ.barrier()\n",
    "circ.draw('mpl')"
   ]
  },
  {
   "cell_type": "code",
   "execution_count": null,
   "id": "944882bc",
   "metadata": {},
   "outputs": [],
   "source": [
    "# Perform rotation\n",
    "rotation(n, l, circ)\n",
    "circ.barrier()\n",
    "circ.draw('mpl')"
   ]
  },
  {
   "cell_type": "code",
   "execution_count": null,
   "id": "82c58b69",
   "metadata": {},
   "outputs": [],
   "source": [
    "# Uncompute QPE\n",
    "uncompute = QPE(n, gate).to_gate()\n",
    "circ.append(uncompute.inverse(), range(n+l)[::-1])\n",
    "circ.barrier()\n",
    "circ.draw('mpl')"
   ]
  },
  {
   "cell_type": "code",
   "execution_count": null,
   "id": "84c5ad54",
   "metadata": {},
   "outputs": [],
   "source": [
    "# Measure circuit\n",
    "meas = ClassicalRegister(l+1)\n",
    "circ.add_register(meas)\n",
    "circ.measure([n+l]+list(range(l)), range(l+1))\n",
    "\n",
    "qc = transpile(circ, simulator)\n",
    "qc.draw('mpl')"
   ]
  },
  {
   "cell_type": "code",
   "execution_count": null,
   "id": "245365cb",
   "metadata": {},
   "outputs": [],
   "source": [
    "# Run circuit\n",
    "result = simulator.run(qc, shots = 1000).result()\n",
    "counts = result.get_counts()\n",
    "count = {}\n",
    "for key, value in counts.items():\n",
    "    if key[-1] == '1':\n",
    "        count[int(key[:-1],2)] = value\n",
    "plot_distribution(counts)"
   ]
  },
  {
   "cell_type": "code",
   "execution_count": null,
   "id": "73322568",
   "metadata": {},
   "outputs": [],
   "source": [
    "sol = []\n",
    "for i in range(2**l):\n",
    "    if i in count.keys():\n",
    "        sol.append([sqrt(count[i]/sum(list(count.values())))])\n",
    "    else:\n",
    "        sol.append([0])\n",
    "print(f'Solution is given by: {sol}')"
   ]
  },
  {
   "cell_type": "code",
   "execution_count": null,
   "id": "072cd757",
   "metadata": {},
   "outputs": [],
   "source": [
    "from numpy import matmul\n",
    "# Get x\n",
    "B = list(matmul(A, sol))\n",
    "i = 0\n",
    "while not b[i]:\n",
    "    i += 1\n",
    "norm_x = b[i]/B[i]\n",
    "x = [s*norm_x for s in sol]\n",
    "print(f'x is given by: {x}')"
   ]
  },
  {
   "cell_type": "markdown",
   "id": "908264f9",
   "metadata": {},
   "source": [
    "### Reference\n",
    "\n",
    "1. M. A. Nielsen, I.L. Chuang, Quantum Computation and Quantum Information.\n",
    "2. Harry Buhrman, Richard Cleve, John Watrous, and Ronald de Wolf, Phys. Rev. Lett. **87**, 167902.\n",
    "3. Aram W. Harrow, Avinatan Hassidim, and Seth Lloyd, Phys. Rev. Lett. **103**, 150502.\n",
    "4. https://arxiv.org/abs/1307.0411\n",
    "5. IBM Quantum Learning: https://learning.quantum.ibm.com/."
   ]
  }
 ],
 "metadata": {
  "kernelspec": {
   "display_name": "Python 3 (ipykernel)",
   "language": "python",
   "name": "python3"
  },
  "language_info": {
   "codemirror_mode": {
    "name": "ipython",
    "version": 3
   },
   "file_extension": ".py",
   "mimetype": "text/x-python",
   "name": "python",
   "nbconvert_exporter": "python",
   "pygments_lexer": "ipython3",
   "version": "3.10.12"
  }
 },
 "nbformat": 4,
 "nbformat_minor": 5
}
