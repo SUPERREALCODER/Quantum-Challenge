{
  "nbformat": 4,
  "nbformat_minor": 0,
  "metadata": {
    "colab": {
      "provenance": [],
      "authorship_tag": "ABX9TyMLBsUce4ls9vCNLb6/U5Kq",
      "include_colab_link": true
    },
    "kernelspec": {
      "name": "python3",
      "display_name": "Python 3"
    },
    "language_info": {
      "name": "python"
    }
  },
  "cells": [
    {
      "cell_type": "markdown",
      "metadata": {
        "id": "view-in-github",
        "colab_type": "text"
      },
      "source": [
        "<a href=\"https://colab.research.google.com/github/SUPERREALCODER/Quantum-Challenge/blob/main/lab0.ipynb\" target=\"_parent\"><img src=\"https://colab.research.google.com/assets/colab-badge.svg\" alt=\"Open In Colab\"/></a>"
      ]
    },
    {
      "cell_type": "code",
      "execution_count": null,
      "metadata": {
        "colab": {
          "base_uri": "https://localhost:8080/"
        },
        "id": "ECQCAChOPdbX",
        "outputId": "90d96adb-4671-43fa-c8a2-717c9b22346b"
      },
      "outputs": [
        {
          "output_type": "stream",
          "name": "stdout",
          "text": [
            "Collecting qiskit[visualization]==1.0.2\n",
            "  Downloading qiskit-1.0.2-cp38-abi3-manylinux_2_17_x86_64.manylinux2014_x86_64.whl (5.6 MB)\n",
            "\u001b[2K     \u001b[90m━━━━━━━━━━━━━━━━━━━━━━━━━━━━━━━━━━━━━━━━\u001b[0m \u001b[32m5.6/5.6 MB\u001b[0m \u001b[31m30.6 MB/s\u001b[0m eta \u001b[36m0:00:00\u001b[0m\n",
            "\u001b[?25hCollecting rustworkx>=0.14.0 (from qiskit[visualization]==1.0.2)\n",
            "  Downloading rustworkx-0.14.2-cp310-cp310-manylinux_2_17_x86_64.manylinux2014_x86_64.whl (2.1 MB)\n",
            "\u001b[2K     \u001b[90m━━━━━━━━━━━━━━━━━━━━━━━━━━━━━━━━━━━━━━━━\u001b[0m \u001b[32m2.1/2.1 MB\u001b[0m \u001b[31m54.4 MB/s\u001b[0m eta \u001b[36m0:00:00\u001b[0m\n",
            "\u001b[?25hRequirement already satisfied: numpy<2,>=1.17 in /usr/local/lib/python3.10/dist-packages (from qiskit[visualization]==1.0.2) (1.25.2)\n",
            "Requirement already satisfied: scipy>=1.5 in /usr/local/lib/python3.10/dist-packages (from qiskit[visualization]==1.0.2) (1.11.4)\n",
            "Requirement already satisfied: sympy>=1.3 in /usr/local/lib/python3.10/dist-packages (from qiskit[visualization]==1.0.2) (1.12.1)\n",
            "Collecting dill>=0.3 (from qiskit[visualization]==1.0.2)\n",
            "  Downloading dill-0.3.8-py3-none-any.whl (116 kB)\n",
            "\u001b[2K     \u001b[90m━━━━━━━━━━━━━━━━━━━━━━━━━━━━━━━━━━━━━━━━\u001b[0m \u001b[32m116.3/116.3 kB\u001b[0m \u001b[31m10.8 MB/s\u001b[0m eta \u001b[36m0:00:00\u001b[0m\n",
            "\u001b[?25hRequirement already satisfied: python-dateutil>=2.8.0 in /usr/local/lib/python3.10/dist-packages (from qiskit[visualization]==1.0.2) (2.8.2)\n",
            "Collecting stevedore>=3.0.0 (from qiskit[visualization]==1.0.2)\n",
            "  Downloading stevedore-5.2.0-py3-none-any.whl (49 kB)\n",
            "\u001b[2K     \u001b[90m━━━━━━━━━━━━━━━━━━━━━━━━━━━━━━━━━━━━━━━━\u001b[0m \u001b[32m49.7/49.7 kB\u001b[0m \u001b[31m3.9 MB/s\u001b[0m eta \u001b[36m0:00:00\u001b[0m\n",
            "\u001b[?25hRequirement already satisfied: typing-extensions in /usr/local/lib/python3.10/dist-packages (from qiskit[visualization]==1.0.2) (4.12.2)\n",
            "Collecting symengine>=0.11 (from qiskit[visualization]==1.0.2)\n",
            "  Downloading symengine-0.11.0-cp310-cp310-manylinux_2_12_x86_64.manylinux2010_x86_64.whl (39.4 MB)\n",
            "\u001b[2K     \u001b[90m━━━━━━━━━━━━━━━━━━━━━━━━━━━━━━━━━━━━━━━━\u001b[0m \u001b[32m39.4/39.4 MB\u001b[0m \u001b[31m10.7 MB/s\u001b[0m eta \u001b[36m0:00:00\u001b[0m\n",
            "\u001b[?25hRequirement already satisfied: matplotlib>=3.3 in /usr/local/lib/python3.10/dist-packages (from qiskit[visualization]==1.0.2) (3.7.1)\n",
            "Requirement already satisfied: pydot in /usr/local/lib/python3.10/dist-packages (from qiskit[visualization]==1.0.2) (1.4.2)\n",
            "Requirement already satisfied: Pillow>=4.2.1 in /usr/local/lib/python3.10/dist-packages (from qiskit[visualization]==1.0.2) (9.4.0)\n",
            "Collecting pylatexenc>=1.4 (from qiskit[visualization]==1.0.2)\n",
            "  Downloading pylatexenc-2.10.tar.gz (162 kB)\n",
            "\u001b[2K     \u001b[90m━━━━━━━━━━━━━━━━━━━━━━━━━━━━━━━━━━━━━━━━\u001b[0m \u001b[32m162.6/162.6 kB\u001b[0m \u001b[31m7.0 MB/s\u001b[0m eta \u001b[36m0:00:00\u001b[0m\n",
            "\u001b[?25h  Preparing metadata (setup.py) ... \u001b[?25l\u001b[?25hdone\n",
            "Requirement already satisfied: seaborn>=0.9.0 in /usr/local/lib/python3.10/dist-packages (from qiskit[visualization]==1.0.2) (0.13.1)\n",
            "Requirement already satisfied: contourpy>=1.0.1 in /usr/local/lib/python3.10/dist-packages (from matplotlib>=3.3->qiskit[visualization]==1.0.2) (1.2.1)\n",
            "Requirement already satisfied: cycler>=0.10 in /usr/local/lib/python3.10/dist-packages (from matplotlib>=3.3->qiskit[visualization]==1.0.2) (0.12.1)\n",
            "Requirement already satisfied: fonttools>=4.22.0 in /usr/local/lib/python3.10/dist-packages (from matplotlib>=3.3->qiskit[visualization]==1.0.2) (4.53.0)\n",
            "Requirement already satisfied: kiwisolver>=1.0.1 in /usr/local/lib/python3.10/dist-packages (from matplotlib>=3.3->qiskit[visualization]==1.0.2) (1.4.5)\n",
            "Requirement already satisfied: packaging>=20.0 in /usr/local/lib/python3.10/dist-packages (from matplotlib>=3.3->qiskit[visualization]==1.0.2) (24.1)\n",
            "Requirement already satisfied: pyparsing>=2.3.1 in /usr/local/lib/python3.10/dist-packages (from matplotlib>=3.3->qiskit[visualization]==1.0.2) (3.1.2)\n",
            "Requirement already satisfied: six>=1.5 in /usr/local/lib/python3.10/dist-packages (from python-dateutil>=2.8.0->qiskit[visualization]==1.0.2) (1.16.0)\n",
            "Requirement already satisfied: pandas>=1.2 in /usr/local/lib/python3.10/dist-packages (from seaborn>=0.9.0->qiskit[visualization]==1.0.2) (2.0.3)\n",
            "Collecting pbr!=2.1.0,>=2.0.0 (from stevedore>=3.0.0->qiskit[visualization]==1.0.2)\n",
            "  Downloading pbr-6.0.0-py2.py3-none-any.whl (107 kB)\n",
            "\u001b[2K     \u001b[90m━━━━━━━━━━━━━━━━━━━━━━━━━━━━━━━━━━━━━━━━\u001b[0m \u001b[32m107.5/107.5 kB\u001b[0m \u001b[31m8.3 MB/s\u001b[0m eta \u001b[36m0:00:00\u001b[0m\n",
            "\u001b[?25hRequirement already satisfied: mpmath<1.4.0,>=1.1.0 in /usr/local/lib/python3.10/dist-packages (from sympy>=1.3->qiskit[visualization]==1.0.2) (1.3.0)\n",
            "Requirement already satisfied: pytz>=2020.1 in /usr/local/lib/python3.10/dist-packages (from pandas>=1.2->seaborn>=0.9.0->qiskit[visualization]==1.0.2) (2023.4)\n",
            "Requirement already satisfied: tzdata>=2022.1 in /usr/local/lib/python3.10/dist-packages (from pandas>=1.2->seaborn>=0.9.0->qiskit[visualization]==1.0.2) (2024.1)\n",
            "Building wheels for collected packages: pylatexenc\n",
            "  Building wheel for pylatexenc (setup.py) ... \u001b[?25l\u001b[?25hdone\n",
            "  Created wheel for pylatexenc: filename=pylatexenc-2.10-py3-none-any.whl size=136816 sha256=f2db8f1e01e49b4509da9a1cbdf9de613a03ad3d16ee6aaba5f7d8094023ae9b\n",
            "  Stored in directory: /root/.cache/pip/wheels/d3/31/8b/e09b0386afd80cfc556c00408c9aeea5c35c4d484a9c762fd5\n",
            "Successfully built pylatexenc\n",
            "Installing collected packages: pylatexenc, symengine, rustworkx, pbr, dill, stevedore, qiskit\n",
            "Successfully installed dill-0.3.8 pbr-6.0.0 pylatexenc-2.10 qiskit-1.0.2 rustworkx-0.14.2 stevedore-5.2.0 symengine-0.11.0\n"
          ]
        }
      ],
      "source": [
        "\n",
        "%pip install qiskit[visualization]==1.0.2"
      ]
    },
    {
      "cell_type": "code",
      "source": [
        "from qiskit import QuantumCircuit\n",
        "\n",
        "# Create a new circuit with a single qubit\n",
        "qc = QuantumCircuit(1)\n",
        "\n",
        "# Add a Not gate to qubit 0\n",
        "qc.x(0)\n",
        "\n",
        "# Return a drawing of the circuit using MatPlotLib (\"mpl\"). This is the\n",
        "# last line of the cell, so the drawing appears in the cell output.\n",
        "qc.draw(\"mpl\")"
      ],
      "metadata": {
        "colab": {
          "base_uri": "https://localhost:8080/",
          "height": 127
        },
        "id": "8p3yLTUkWFB5",
        "outputId": "edfb865b-c3cc-4bbf-ddab-7012dd15f62d"
      },
      "execution_count": null,
      "outputs": [
        {
          "output_type": "execute_result",
          "data": {
            "text/plain": [
              "<Figure size 185.453x117.056 with 1 Axes>"
            ],
            "image/png": "[encoded data removed]"
          },
          "metadata": {},
          "execution_count": 4
        }
      ]
    },
    {
      "cell_type": "code",
      "source": [
        "%pip install qiskit_aer\n",
        "%pip install qiskit_ibm_runtime\n",
        "%pip install matplotlib\n",
        "%pip install pylatexenc\n",
        "%pip install qiskit-transpiler-service\n",
        "%pip install git+https://github.com/qiskit-community/Quantum-Challenge-Grader.git"
      ],
      "metadata": {
        "colab": {
          "base_uri": "https://localhost:8080/",
          "height": 1000
        },
        "id": "NuBHVdPHWadJ",
        "outputId": "056c1f5d-0ffc-46ac-8ce7-f4a411f304cf"
      },
      "execution_count": null,
      "outputs": [
        {
          "output_type": "stream",
          "name": "stdout",
          "text": [
            "Collecting qiskit_aer\n",
            "  Downloading qiskit_aer-0.14.2-cp310-cp310-manylinux_2_17_x86_64.manylinux2014_x86_64.whl (12.4 MB)\n",
            "\u001b[2K     \u001b[90m━━━━━━━━━━━━━━━━━━━━━━━━━━━━━━━━━━━━━━━━\u001b[0m \u001b[32m12.4/12.4 MB\u001b[0m \u001b[31m64.3 MB/s\u001b[0m eta \u001b[36m0:00:00\u001b[0m\n",
            "\u001b[?25hRequirement already satisfied: qiskit>=0.45.2 in /usr/local/lib/python3.10/dist-packages (from qiskit_aer) (1.0.2)\n",
            "Requirement already satisfied: numpy>=1.16.3 in /usr/local/lib/python3.10/dist-packages (from qiskit_aer) (1.25.2)\n",
            "Requirement already satisfied: scipy>=1.0 in /usr/local/lib/python3.10/dist-packages (from qiskit_aer) (1.11.4)\n",
            "Requirement already satisfied: psutil>=5 in /usr/local/lib/python3.10/dist-packages (from qiskit_aer) (5.9.5)\n",
            "Requirement already satisfied: rustworkx>=0.14.0 in /usr/local/lib/python3.10/dist-packages (from qiskit>=0.45.2->qiskit_aer) (0.14.2)\n",
            "Requirement already satisfied: sympy>=1.3 in /usr/local/lib/python3.10/dist-packages (from qiskit>=0.45.2->qiskit_aer) (1.12.1)\n",
            "Requirement already satisfied: dill>=0.3 in /usr/local/lib/python3.10/dist-packages (from qiskit>=0.45.2->qiskit_aer) (0.3.8)\n",
            "Requirement already satisfied: python-dateutil>=2.8.0 in /usr/local/lib/python3.10/dist-packages (from qiskit>=0.45.2->qiskit_aer) (2.8.2)\n",
            "Requirement already satisfied: stevedore>=3.0.0 in /usr/local/lib/python3.10/dist-packages (from qiskit>=0.45.2->qiskit_aer) (5.2.0)\n",
            "Requirement already satisfied: typing-extensions in /usr/local/lib/python3.10/dist-packages (from qiskit>=0.45.2->qiskit_aer) (4.12.2)\n",
            "Requirement already satisfied: symengine>=0.11 in /usr/local/lib/python3.10/dist-packages (from qiskit>=0.45.2->qiskit_aer) (0.11.0)\n",
            "Requirement already satisfied: six>=1.5 in /usr/local/lib/python3.10/dist-packages (from python-dateutil>=2.8.0->qiskit>=0.45.2->qiskit_aer) (1.16.0)\n",
            "Requirement already satisfied: pbr!=2.1.0,>=2.0.0 in /usr/local/lib/python3.10/dist-packages (from stevedore>=3.0.0->qiskit>=0.45.2->qiskit_aer) (6.0.0)\n",
            "Requirement already satisfied: mpmath<1.4.0,>=1.1.0 in /usr/local/lib/python3.10/dist-packages (from sympy>=1.3->qiskit>=0.45.2->qiskit_aer) (1.3.0)\n",
            "Installing collected packages: qiskit_aer\n",
            "Successfully installed qiskit_aer-0.14.2\n",
            "Collecting qiskit_ibm_runtime\n",
            "  Downloading qiskit_ibm_runtime-0.24.0-py3-none-any.whl (2.9 MB)\n",
            "\u001b[2K     \u001b[90m━━━━━━━━━━━━━━━━━━━━━━━━━━━━━━━━━━━━━━━━\u001b[0m \u001b[32m2.9/2.9 MB\u001b[0m \u001b[31m9.4 MB/s\u001b[0m eta \u001b[36m0:00:00\u001b[0m\n",
            "\u001b[?25hRequirement already satisfied: requests>=2.19 in /usr/local/lib/python3.10/dist-packages (from qiskit_ibm_runtime) (2.31.0)\n",
            "Collecting requests-ntlm>=1.1.0 (from qiskit_ibm_runtime)\n",
            "  Downloading requests_ntlm-1.3.0-py3-none-any.whl (6.6 kB)\n",
            "Requirement already satisfied: numpy>=1.13 in /usr/local/lib/python3.10/dist-packages (from qiskit_ibm_runtime) (1.25.2)\n",
            "Requirement already satisfied: urllib3>=1.21.1 in /usr/local/lib/python3.10/dist-packages (from qiskit_ibm_runtime) (2.0.7)\n",
            "Requirement already satisfied: python-dateutil>=2.8.0 in /usr/local/lib/python3.10/dist-packages (from qiskit_ibm_runtime) (2.8.2)\n",
            "Requirement already satisfied: websocket-client>=1.5.1 in /usr/local/lib/python3.10/dist-packages (from qiskit_ibm_runtime) (1.8.0)\n",
            "Collecting ibm-platform-services>=0.22.6 (from qiskit_ibm_runtime)\n",
            "  Downloading ibm-platform-services-0.53.7.tar.gz (323 kB)\n",
            "\u001b[2K     \u001b[90m━━━━━━━━━━━━━━━━━━━━━━━━━━━━━━━━━━━━━━━━\u001b[0m \u001b[32m323.9/323.9 kB\u001b[0m \u001b[31m11.4 MB/s\u001b[0m eta \u001b[36m0:00:00\u001b[0m\n",
            "\u001b[?25h  Installing build dependencies ... \u001b[?25l\u001b[?25hdone\n",
            "  Getting requirements to build wheel ... \u001b[?25l\u001b[?25hdone\n",
            "  Preparing metadata (pyproject.toml) ... \u001b[?25l\u001b[?25hdone\n",
            "Requirement already satisfied: pydantic in /usr/local/lib/python3.10/dist-packages (from qiskit_ibm_runtime) (2.7.3)\n",
            "Collecting qiskit>=1.1.0 (from qiskit_ibm_runtime)\n",
            "  Downloading qiskit-1.1.0-cp38-abi3-manylinux_2_17_x86_64.manylinux2014_x86_64.whl (4.3 MB)\n",
            "\u001b[2K     \u001b[90m━━━━━━━━━━━━━━━━━━━━━━━━━━━━━━━━━━━━━━━━\u001b[0m \u001b[32m4.3/4.3 MB\u001b[0m \u001b[31m23.4 MB/s\u001b[0m eta \u001b[36m0:00:00\u001b[0m\n",
            "\u001b[?25hCollecting ibm-cloud-sdk-core<4.0.0,>=3.19.2 (from ibm-platform-services>=0.22.6->qiskit_ibm_runtime)\n",
            "  Downloading ibm-cloud-sdk-core-3.20.1.tar.gz (62 kB)\n",
            "\u001b[2K     \u001b[90m━━━━━━━━━━━━━━━━━━━━━━━━━━━━━━━━━━━━━━━━\u001b[0m \u001b[32m62.1/62.1 kB\u001b[0m \u001b[31m6.9 MB/s\u001b[0m eta \u001b[36m0:00:00\u001b[0m\n",
            "\u001b[?25h  Installing build dependencies ... \u001b[?25l\u001b[?25hdone\n",
            "  Getting requirements to build wheel ... \u001b[?25l\u001b[?25hdone\n",
            "  Preparing metadata (pyproject.toml) ... \u001b[?25l\u001b[?25hdone\n",
            "Requirement already satisfied: six>=1.5 in /usr/local/lib/python3.10/dist-packages (from python-dateutil>=2.8.0->qiskit_ibm_runtime) (1.16.0)\n",
            "Requirement already satisfied: rustworkx>=0.14.0 in /usr/local/lib/python3.10/dist-packages (from qiskit>=1.1.0->qiskit_ibm_runtime) (0.14.2)\n",
            "Requirement already satisfied: scipy>=1.5 in /usr/local/lib/python3.10/dist-packages (from qiskit>=1.1.0->qiskit_ibm_runtime) (1.11.4)\n",
            "Requirement already satisfied: sympy>=1.3 in /usr/local/lib/python3.10/dist-packages (from qiskit>=1.1.0->qiskit_ibm_runtime) (1.12.1)\n",
            "Requirement already satisfied: dill>=0.3 in /usr/local/lib/python3.10/dist-packages (from qiskit>=1.1.0->qiskit_ibm_runtime) (0.3.8)\n",
            "Requirement already satisfied: stevedore>=3.0.0 in /usr/local/lib/python3.10/dist-packages (from qiskit>=1.1.0->qiskit_ibm_runtime) (5.2.0)\n",
            "Requirement already satisfied: typing-extensions in /usr/local/lib/python3.10/dist-packages (from qiskit>=1.1.0->qiskit_ibm_runtime) (4.12.2)\n",
            "Requirement already satisfied: symengine>=0.11 in /usr/local/lib/python3.10/dist-packages (from qiskit>=1.1.0->qiskit_ibm_runtime) (0.11.0)\n",
            "Requirement already satisfied: charset-normalizer<4,>=2 in /usr/local/lib/python3.10/dist-packages (from requests>=2.19->qiskit_ibm_runtime) (3.3.2)\n",
            "Requirement already satisfied: idna<4,>=2.5 in /usr/local/lib/python3.10/dist-packages (from requests>=2.19->qiskit_ibm_runtime) (3.7)\n",
            "Requirement already satisfied: certifi>=2017.4.17 in /usr/local/lib/python3.10/dist-packages (from requests>=2.19->qiskit_ibm_runtime) (2024.6.2)\n",
            "Requirement already satisfied: cryptography>=1.3 in /usr/local/lib/python3.10/dist-packages (from requests-ntlm>=1.1.0->qiskit_ibm_runtime) (42.0.8)\n",
            "Collecting pyspnego>=0.4.0 (from requests-ntlm>=1.1.0->qiskit_ibm_runtime)\n",
            "  Downloading pyspnego-0.11.0-py3-none-any.whl (130 kB)\n",
            "\u001b[2K     \u001b[90m━━━━━━━━━━━━━━━━━━━━━━━━━━━━━━━━━━━━━━━━\u001b[0m \u001b[32m130.4/130.4 kB\u001b[0m \u001b[31m12.2 MB/s\u001b[0m eta \u001b[36m0:00:00\u001b[0m\n",
            "\u001b[?25hRequirement already satisfied: annotated-types>=0.4.0 in /usr/local/lib/python3.10/dist-packages (from pydantic->qiskit_ibm_runtime) (0.7.0)\n",
            "Requirement already satisfied: pydantic-core==2.18.4 in /usr/local/lib/python3.10/dist-packages (from pydantic->qiskit_ibm_runtime) (2.18.4)\n",
            "Requirement already satisfied: cffi>=1.12 in /usr/local/lib/python3.10/dist-packages (from cryptography>=1.3->requests-ntlm>=1.1.0->qiskit_ibm_runtime) (1.16.0)\n",
            "Collecting urllib3>=1.21.1 (from qiskit_ibm_runtime)\n",
            "  Downloading urllib3-2.2.1-py3-none-any.whl (121 kB)\n",
            "\u001b[2K     \u001b[90m━━━━━━━━━━━━━━━━━━━━━━━━━━━━━━━━━━━━━━━━\u001b[0m \u001b[32m121.1/121.1 kB\u001b[0m \u001b[31m13.1 MB/s\u001b[0m eta \u001b[36m0:00:00\u001b[0m\n",
            "\u001b[?25hCollecting PyJWT<3.0.0,>=2.8.0 (from ibm-cloud-sdk-core<4.0.0,>=3.19.2->ibm-platform-services>=0.22.6->qiskit_ibm_runtime)\n",
            "  Downloading PyJWT-2.8.0-py3-none-any.whl (22 kB)\n",
            "Requirement already satisfied: pbr!=2.1.0,>=2.0.0 in /usr/local/lib/python3.10/dist-packages (from stevedore>=3.0.0->qiskit>=1.1.0->qiskit_ibm_runtime) (6.0.0)\n",
            "Requirement already satisfied: mpmath<1.4.0,>=1.1.0 in /usr/local/lib/python3.10/dist-packages (from sympy>=1.3->qiskit>=1.1.0->qiskit_ibm_runtime) (1.3.0)\n",
            "Requirement already satisfied: pycparser in /usr/local/lib/python3.10/dist-packages (from cffi>=1.12->cryptography>=1.3->requests-ntlm>=1.1.0->qiskit_ibm_runtime) (2.22)\n",
            "Building wheels for collected packages: ibm-platform-services, ibm-cloud-sdk-core\n",
            "  Building wheel for ibm-platform-services (pyproject.toml) ... \u001b[?25l\u001b[?25hdone\n",
            "  Created wheel for ibm-platform-services: filename=ibm_platform_services-0.53.7-py3-none-any.whl size=340285 sha256=a5b83345a8e88dc55d0da89a7e6611efd2a4ae01c75e7e8907a98990ce68bc60\n",
            "  Stored in directory: /root/.cache/pip/wheels/8e/54/ad/63e8fdae0e85463bc04a21acf5364cff6def892b95dc40f3ed\n",
            "  Building wheel for ibm-cloud-sdk-core (pyproject.toml) ... \u001b[?25l\u001b[?25hdone\n",
            "  Created wheel for ibm-cloud-sdk-core: filename=ibm_cloud_sdk_core-3.20.1-py3-none-any.whl size=101533 sha256=cf1c63d839e1463a048d4e1204b446e8a765e769ab200be257d48a75a6a991aa\n",
            "  Stored in directory: /root/.cache/pip/wheels/b1/80/5b/12af32c69e0bde3322cb9c1809952e8ed9f2a2a39509ee5374\n",
            "Successfully built ibm-platform-services ibm-cloud-sdk-core\n",
            "Installing collected packages: urllib3, PyJWT, qiskit, pyspnego, ibm-cloud-sdk-core, requests-ntlm, ibm-platform-services, qiskit_ibm_runtime\n",
            "  Attempting uninstall: urllib3\n",
            "    Found existing installation: urllib3 2.0.7\n",
            "    Uninstalling urllib3-2.0.7:\n",
            "      Successfully uninstalled urllib3-2.0.7\n",
            "  Attempting uninstall: PyJWT\n",
            "    Found existing installation: PyJWT 2.3.0\n",
            "    Uninstalling PyJWT-2.3.0:\n",
            "      Successfully uninstalled PyJWT-2.3.0\n",
            "  Attempting uninstall: qiskit\n",
            "    Found existing installation: qiskit 1.0.2\n",
            "    Uninstalling qiskit-1.0.2:\n",
            "      Successfully uninstalled qiskit-1.0.2\n",
            "Successfully installed PyJWT-2.8.0 ibm-cloud-sdk-core-3.20.1 ibm-platform-services-0.53.7 pyspnego-0.11.0 qiskit-1.1.0 qiskit_ibm_runtime-0.24.0 requests-ntlm-1.3.0 urllib3-2.2.1\n"
          ]
        },
        {
          "output_type": "display_data",
          "data": {
            "application/vnd.colab-display-data+json": {
              "pip_warning": {
                "packages": [
                  "qiskit"
                ]
              },
              "id": "288bbd236b84431f876a57471da4d942"
            }
          },
          "metadata": {}
        },
        {
          "output_type": "stream",
          "name": "stdout",
          "text": [
            "Requirement already satisfied: matplotlib in /usr/local/lib/python3.10/dist-packages (3.7.1)\n",
            "Requirement already satisfied: contourpy>=1.0.1 in /usr/local/lib/python3.10/dist-packages (from matplotlib) (1.2.1)\n",
            "Requirement already satisfied: cycler>=0.10 in /usr/local/lib/python3.10/dist-packages (from matplotlib) (0.12.1)\n",
            "Requirement already satisfied: fonttools>=4.22.0 in /usr/local/lib/python3.10/dist-packages (from matplotlib) (4.53.0)\n",
            "Requirement already satisfied: kiwisolver>=1.0.1 in /usr/local/lib/python3.10/dist-packages (from matplotlib) (1.4.5)\n",
            "Requirement already satisfied: numpy>=1.20 in /usr/local/lib/python3.10/dist-packages (from matplotlib) (1.25.2)\n",
            "Requirement already satisfied: packaging>=20.0 in /usr/local/lib/python3.10/dist-packages (from matplotlib) (24.1)\n",
            "Requirement already satisfied: pillow>=6.2.0 in /usr/local/lib/python3.10/dist-packages (from matplotlib) (9.4.0)\n",
            "Requirement already satisfied: pyparsing>=2.3.1 in /usr/local/lib/python3.10/dist-packages (from matplotlib) (3.1.2)\n",
            "Requirement already satisfied: python-dateutil>=2.7 in /usr/local/lib/python3.10/dist-packages (from matplotlib) (2.8.2)\n",
            "Requirement already satisfied: six>=1.5 in /usr/local/lib/python3.10/dist-packages (from python-dateutil>=2.7->matplotlib) (1.16.0)\n",
            "Traceback (most recent call last):\n",
            "  File \"/usr/local/lib/python3.10/dist-packages/pip/_vendor/pkg_resources/__init__.py\", line 3108, in _dep_map\n",
            "    return self.__dep_map\n",
            "  File \"/usr/local/lib/python3.10/dist-packages/pip/_vendor/pkg_resources/__init__.py\", line 2901, in __getattr__\n",
            "    raise AttributeError(attr)\n",
            "AttributeError: _DistInfoDistribution__dep_map\n",
            "\n",
            "During handling of the above exception, another exception occurred:\n",
            "\n",
            "Traceback (most recent call last):\n",
            "  File \"/usr/local/lib/python3.10/dist-packages/pip/_internal/cli/base_command.py\", line 169, in exc_logging_wrapper\n",
            "    status = run_func(*args)\n",
            "  File \"/usr/local/lib/python3.10/dist-packages/pip/_internal/cli/req_command.py\", line 242, in wrapper\n",
            "    return func(self, options, args)\n",
            "  File \"/usr/local/lib/python3.10/dist-packages/pip/_internal/commands/install.py\", line 441, in run\n",
            "    conflicts = self._determine_conflicts(to_install)\n",
            "  File \"/usr/local/lib/python3.10/dist-packages/pip/_internal/commands/install.py\", line 572, in _determine_conflicts\n",
            "    return check_install_conflicts(to_install)\n",
            "  File \"/usr/local/lib/python3.10/dist-packages/pip/_internal/operations/check.py\", line 101, in check_install_conflicts\n",
            "    package_set, _ = create_package_set_from_installed()\n",
            "  File \"/usr/local/lib/python3.10/dist-packages/pip/_internal/operations/check.py\", line 42, in create_package_set_from_installed\n",
            "    dependencies = list(dist.iter_dependencies())\n",
            "  File \"/usr/local/lib/python3.10/dist-packages/pip/_internal/metadata/pkg_resources.py\", line 216, in iter_dependencies\n",
            "    return self._dist.requires(extras)\n",
            "  File \"/usr/local/lib/python3.10/dist-packages/pip/_vendor/pkg_resources/__init__.py\", line 2821, in requires\n",
            "    dm = self._dep_map\n",
            "  File \"/usr/local/lib/python3.10/dist-packages/pip/_vendor/pkg_resources/__init__.py\", line 3110, in _dep_map\n",
            "    self.__dep_map = self._compute_dependencies()\n",
            "  File \"/usr/local/lib/python3.10/dist-packages/pip/_vendor/pkg_resources/__init__.py\", line 3120, in _compute_dependencies\n",
            "    reqs.extend(parse_requirements(req))\n",
            "  File \"/usr/local/lib/python3.10/dist-packages/pip/_vendor/pkg_resources/__init__.py\", line 3173, in __init__\n",
            "    super(Requirement, self).__init__(requirement_string)\n",
            "  File \"/usr/local/lib/python3.10/dist-packages/pip/_vendor/packaging/requirements.py\", line 102, in __init__\n",
            "    req = REQUIREMENT.parseString(requirement_string)\n",
            "  File \"/usr/local/lib/python3.10/dist-packages/pip/_vendor/pyparsing/core.py\", line 1131, in parse_string\n",
            "    loc, tokens = self._parse(instring, 0)\n",
            "  File \"/usr/local/lib/python3.10/dist-packages/pip/_vendor/pyparsing/core.py\", line 817, in _parseNoCache\n",
            "    loc, tokens = self.parseImpl(instring, pre_loc, doActions)\n",
            "  File \"/usr/local/lib/python3.10/dist-packages/pip/_vendor/pyparsing/core.py\", line 3886, in parseImpl\n",
            "    loc, exprtokens = e._parse(instring, loc, doActions)\n",
            "  File \"/usr/local/lib/python3.10/dist-packages/pip/_vendor/pyparsing/core.py\", line 825, in _parseNoCache\n",
            "    ret_tokens = ParseResults(\n",
            "  File \"/usr/local/lib/python3.10/dist-packages/pip/_vendor/pyparsing/results.py\", line 136, in __new__\n",
            "    def __new__(cls, toklist=None, name=None, **kwargs):\n",
            "KeyboardInterrupt\n",
            "\n",
            "During handling of the above exception, another exception occurred:\n",
            "\n",
            "Traceback (most recent call last):\n",
            "  File \"/usr/lib/python3.10/logging/__init__.py\", line 1732, in isEnabledFor\n",
            "    return self._cache[level]\n",
            "KeyError: 50\n",
            "\n",
            "During handling of the above exception, another exception occurred:\n",
            "\n",
            "Traceback (most recent call last):\n",
            "  File \"/usr/local/bin/pip3\", line 8, in <module>\n",
            "    sys.exit(main())\n",
            "  File \"/usr/local/lib/python3.10/dist-packages/pip/_internal/cli/main.py\", line 79, in main\n",
            "    return command.main(cmd_args)\n",
            "  File \"/usr/local/lib/python3.10/dist-packages/pip/_internal/cli/base_command.py\", line 101, in main\n",
            "    return self._main(args)\n",
            "  File \"/usr/local/lib/python3.10/dist-packages/pip/_internal/cli/base_command.py\", line 223, in _main\n",
            "    return run(options, args)\n",
            "  File \"/usr/local/lib/python3.10/dist-packages/pip/_internal/cli/base_command.py\", line 206, in exc_logging_wrapper\n",
            "    logger.critical(\"Operation cancelled by user\")\n",
            "  File \"/usr/lib/python3.10/logging/__init__.py\", line 1523, in critical\n",
            "    if self.isEnabledFor(CRITICAL):\n",
            "  File \"/usr/lib/python3.10/logging/__init__.py\", line 1736, in isEnabledFor\n",
            "    if self.manager.disable >= level:\n",
            "KeyboardInterrupt\n",
            "^C\n",
            "Requirement already satisfied: pylatexenc in /usr/local/lib/python3.10/dist-packages (2.10)\n"
          ]
        }
      ]
    },
    {
      "cell_type": "code",
      "source": [
        "%pip install git+https://github.com/qiskit-community/Quantum-Challenge-Grader.git"
      ],
      "metadata": {
        "colab": {
          "base_uri": "https://localhost:8080/",
          "height": 1000
        },
        "id": "IryCCUXHr3y_",
        "outputId": "3cc89e05-a6c5-4ef6-c1c8-5eca05944825"
      },
      "execution_count": null,
      "outputs": [
        {
          "output_type": "stream",
          "name": "stdout",
          "text": [
            "Collecting git+https://github.com/qiskit-community/Quantum-Challenge-Grader.git\n",
            "  Cloning https://github.com/qiskit-community/Quantum-Challenge-Grader.git to /tmp/pip-req-build-c9h3iqfy\n",
            "  Running command git clone --filter=blob:none --quiet https://github.com/qiskit-community/Quantum-Challenge-Grader.git /tmp/pip-req-build-c9h3iqfy\n",
            "  Resolved https://github.com/qiskit-community/Quantum-Challenge-Grader.git to commit 1742268fcb91b9f53c7f9ca83d3511adf200f3a9\n",
            "  Preparing metadata (setup.py) ... \u001b[?25l\u001b[?25hdone\n",
            "Collecting typeguard (from qc-grader==0.18.13)\n",
            "  Using cached typeguard-4.3.0-py3-none-any.whl (35 kB)\n",
            "Collecting jsonpickle==3.0.3 (from qc-grader==0.18.13)\n",
            "  Using cached jsonpickle-3.0.3-py3-none-any.whl (40 kB)\n",
            "Collecting ipycytoscape (from qc-grader==0.18.13)\n",
            "  Using cached ipycytoscape-1.3.3-py2.py3-none-any.whl (3.6 MB)\n",
            "Requirement already satisfied: plotly in /usr/local/lib/python3.10/dist-packages (from qc-grader==0.18.13) (5.15.0)\n",
            "Collecting networkx==3.2.1 (from qc-grader==0.18.13)\n",
            "  Using cached networkx-3.2.1-py3-none-any.whl (1.6 MB)\n",
            "Requirement already satisfied: graphviz in /usr/local/lib/python3.10/dist-packages (from qc-grader==0.18.13) (0.20.3)\n",
            "Requirement already satisfied: qiskit[visualization]==1.0.2 in /usr/local/lib/python3.10/dist-packages (from qc-grader==0.18.13) (1.0.2)\n",
            "Requirement already satisfied: qiskit-ibm-runtime in /usr/local/lib/python3.10/dist-packages (from qc-grader==0.18.13) (0.24.0)\n",
            "Requirement already satisfied: qiskit-aer in /usr/local/lib/python3.10/dist-packages (from qc-grader==0.18.13) (0.14.2)\n",
            "Requirement already satisfied: qiskit-transpiler-service in /usr/local/lib/python3.10/dist-packages (from qc-grader==0.18.13) (0.4.3)\n",
            "Collecting qiskit-serverless==0.12.0 (from qc-grader==0.18.13)\n",
            "  Using cached qiskit_serverless-0.12.0-py3-none-any.whl (42 kB)\n",
            "Collecting circuit-knitting-toolbox (from qc-grader==0.18.13)\n",
            "  Using cached circuit_knitting_toolbox-0.7.2-py3-none-any.whl (134 kB)\n",
            "Collecting ray[data,default]<3,>=2.9.3 (from qiskit-serverless==0.12.0->qc-grader==0.18.13)\n",
            "  Using cached ray-2.24.0-cp310-cp310-manylinux2014_x86_64.whl (65.9 MB)\n",
            "Collecting requests>=2.32.2 (from qiskit-serverless==0.12.0->qc-grader==0.18.13)\n",
            "  Using cached requests-2.32.3-py3-none-any.whl (64 kB)\n",
            "Requirement already satisfied: importlib-metadata>=5.2.0 in /usr/local/lib/python3.10/dist-packages (from qiskit-serverless==0.12.0->qc-grader==0.18.13) (7.1.0)\n",
            "Collecting qiskit-ibm-provider>=0.10.0 (from qiskit-serverless==0.12.0->qc-grader==0.18.13)\n",
            "  Using cached qiskit_ibm_provider-0.11.0-py3-none-any.whl (249 kB)\n",
            "Requirement already satisfied: cloudpickle==2.2.1 in /usr/local/lib/python3.10/dist-packages (from qiskit-serverless==0.12.0->qc-grader==0.18.13) (2.2.1)\n",
            "Requirement already satisfied: tqdm>=4.66.3 in /usr/local/lib/python3.10/dist-packages (from qiskit-serverless==0.12.0->qc-grader==0.18.13) (4.66.4)\n",
            "Collecting opentelemetry-api>=1.18.0 (from qiskit-serverless==0.12.0->qc-grader==0.18.13)\n",
            "  Using cached opentelemetry_api-1.25.0-py3-none-any.whl (59 kB)\n",
            "Collecting opentelemetry-sdk>=1.18.0 (from qiskit-serverless==0.12.0->qc-grader==0.18.13)\n",
            "  Using cached opentelemetry_sdk-1.25.0-py3-none-any.whl (107 kB)\n",
            "Collecting opentelemetry-exporter-otlp-proto-grpc>=1.18.0 (from qiskit-serverless==0.12.0->qc-grader==0.18.13)\n",
            "  Using cached opentelemetry_exporter_otlp_proto_grpc-1.25.0-py3-none-any.whl (18 kB)\n",
            "Collecting s3fs>=2023.6.0 (from qiskit-serverless==0.12.0->qc-grader==0.18.13)\n",
            "  Using cached s3fs-2024.6.0-py3-none-any.whl (29 kB)\n",
            "Collecting opentelemetry.instrumentation.requests>=0.40b0 (from qiskit-serverless==0.12.0->qc-grader==0.18.13)\n",
            "  Using cached opentelemetry_instrumentation_requests-0.46b0-py3-none-any.whl (12 kB)\n",
            "Collecting ipywidgets>=8.1.2 (from qiskit-serverless==0.12.0->qc-grader==0.18.13)\n",
            "  Using cached ipywidgets-8.1.3-py3-none-any.whl (139 kB)\n",
            "Collecting ipython>=8.10.0 (from qiskit-serverless==0.12.0->qc-grader==0.18.13)\n",
            "  Using cached ipython-8.25.0-py3-none-any.whl (817 kB)\n",
            "Requirement already satisfied: rustworkx>=0.14.0 in /usr/local/lib/python3.10/dist-packages (from qiskit[visualization]==1.0.2->qc-grader==0.18.13) (0.14.2)\n",
            "Requirement already satisfied: numpy<2,>=1.17 in /usr/local/lib/python3.10/dist-packages (from qiskit[visualization]==1.0.2->qc-grader==0.18.13) (1.25.2)\n",
            "Requirement already satisfied: scipy>=1.5 in /usr/local/lib/python3.10/dist-packages (from qiskit[visualization]==1.0.2->qc-grader==0.18.13) (1.11.4)\n",
            "Requirement already satisfied: sympy>=1.3 in /usr/local/lib/python3.10/dist-packages (from qiskit[visualization]==1.0.2->qc-grader==0.18.13) (1.12.1)\n",
            "Requirement already satisfied: dill>=0.3 in /usr/local/lib/python3.10/dist-packages (from qiskit[visualization]==1.0.2->qc-grader==0.18.13) (0.3.8)\n",
            "Requirement already satisfied: python-dateutil>=2.8.0 in /usr/local/lib/python3.10/dist-packages (from qiskit[visualization]==1.0.2->qc-grader==0.18.13) (2.8.2)\n",
            "Requirement already satisfied: stevedore>=3.0.0 in /usr/local/lib/python3.10/dist-packages (from qiskit[visualization]==1.0.2->qc-grader==0.18.13) (5.2.0)\n",
            "Requirement already satisfied: typing-extensions in /usr/local/lib/python3.10/dist-packages (from qiskit[visualization]==1.0.2->qc-grader==0.18.13) (4.12.2)\n",
            "Requirement already satisfied: symengine>=0.11 in /usr/local/lib/python3.10/dist-packages (from qiskit[visualization]==1.0.2->qc-grader==0.18.13) (0.11.0)\n",
            "Requirement already satisfied: matplotlib>=3.3 in /usr/local/lib/python3.10/dist-packages (from qiskit[visualization]==1.0.2->qc-grader==0.18.13) (3.7.1)\n",
            "Requirement already satisfied: pydot in /usr/local/lib/python3.10/dist-packages (from qiskit[visualization]==1.0.2->qc-grader==0.18.13) (1.4.2)\n",
            "Requirement already satisfied: Pillow>=4.2.1 in /usr/local/lib/python3.10/dist-packages (from qiskit[visualization]==1.0.2->qc-grader==0.18.13) (9.4.0)\n",
            "Requirement already satisfied: pylatexenc>=1.4 in /usr/local/lib/python3.10/dist-packages (from qiskit[visualization]==1.0.2->qc-grader==0.18.13) (2.10)\n",
            "Requirement already satisfied: seaborn>=0.9.0 in /usr/local/lib/python3.10/dist-packages (from qiskit[visualization]==1.0.2->qc-grader==0.18.13) (0.13.1)\n",
            "Requirement already satisfied: requests-ntlm>=1.1.0 in /usr/local/lib/python3.10/dist-packages (from qiskit-ibm-runtime->qc-grader==0.18.13) (1.3.0)\n",
            "Requirement already satisfied: urllib3>=1.21.1 in /usr/local/lib/python3.10/dist-packages (from qiskit-ibm-runtime->qc-grader==0.18.13) (2.2.1)\n",
            "Requirement already satisfied: websocket-client>=1.5.1 in /usr/local/lib/python3.10/dist-packages (from qiskit-ibm-runtime->qc-grader==0.18.13) (1.8.0)\n",
            "Requirement already satisfied: ibm-platform-services>=0.22.6 in /usr/local/lib/python3.10/dist-packages (from qiskit-ibm-runtime->qc-grader==0.18.13) (0.53.7)\n",
            "Requirement already satisfied: pydantic in /usr/local/lib/python3.10/dist-packages (from qiskit-ibm-runtime->qc-grader==0.18.13) (2.7.3)\n",
            "INFO: pip is looking at multiple versions of qiskit-ibm-runtime to determine which version is compatible with other requirements. This could take a while.\n",
            "Collecting qiskit-ibm-runtime (from qc-grader==0.18.13)\n",
            "  Using cached qiskit_ibm_runtime-0.23.0-py3-none-any.whl (3.0 MB)\n",
            "Requirement already satisfied: psutil>=5 in /usr/local/lib/python3.10/dist-packages (from qiskit-aer->qc-grader==0.18.13) (5.9.5)\n",
            "Collecting spectate>=1.0.0 (from ipycytoscape->qc-grader==0.18.13)\n",
            "  Using cached spectate-1.0.1-py2.py3-none-any.whl (11 kB)\n",
            "Requirement already satisfied: tenacity>=6.2.0 in /usr/local/lib/python3.10/dist-packages (from plotly->qc-grader==0.18.13) (8.3.0)\n",
            "Requirement already satisfied: packaging in /usr/local/lib/python3.10/dist-packages (from plotly->qc-grader==0.18.13) (24.1)\n",
            "Requirement already satisfied: backoff~=2.0 in /usr/local/lib/python3.10/dist-packages (from qiskit-transpiler-service->qc-grader==0.18.13) (2.2.1)\n",
            "Requirement already satisfied: qiskit-qasm3-import~=0.4 in /usr/local/lib/python3.10/dist-packages (from qiskit-transpiler-service->qc-grader==0.18.13) (0.4.2)\n",
            "Requirement already satisfied: ibm-cloud-sdk-core<4.0.0,>=3.19.2 in /usr/local/lib/python3.10/dist-packages (from ibm-platform-services>=0.22.6->qiskit-ibm-runtime->qc-grader==0.18.13) (3.20.1)\n",
            "Requirement already satisfied: zipp>=0.5 in /usr/local/lib/python3.10/dist-packages (from importlib-metadata>=5.2.0->qiskit-serverless==0.12.0->qc-grader==0.18.13) (3.19.2)\n",
            "Requirement already satisfied: decorator in /usr/local/lib/python3.10/dist-packages (from ipython>=8.10.0->qiskit-serverless==0.12.0->qc-grader==0.18.13) (4.4.2)\n",
            "Collecting jedi>=0.16 (from ipython>=8.10.0->qiskit-serverless==0.12.0->qc-grader==0.18.13)\n",
            "  Using cached jedi-0.19.1-py2.py3-none-any.whl (1.6 MB)\n",
            "Requirement already satisfied: matplotlib-inline in /usr/local/lib/python3.10/dist-packages (from ipython>=8.10.0->qiskit-serverless==0.12.0->qc-grader==0.18.13) (0.1.7)\n",
            "Requirement already satisfied: prompt-toolkit<3.1.0,>=3.0.41 in /usr/local/lib/python3.10/dist-packages (from ipython>=8.10.0->qiskit-serverless==0.12.0->qc-grader==0.18.13) (3.0.47)\n",
            "Requirement already satisfied: pygments>=2.4.0 in /usr/local/lib/python3.10/dist-packages (from ipython>=8.10.0->qiskit-serverless==0.12.0->qc-grader==0.18.13) (2.16.1)\n",
            "Collecting stack-data (from ipython>=8.10.0->qiskit-serverless==0.12.0->qc-grader==0.18.13)\n",
            "  Using cached stack_data-0.6.3-py3-none-any.whl (24 kB)\n",
            "Collecting traitlets>=5.13.0 (from ipython>=8.10.0->qiskit-serverless==0.12.0->qc-grader==0.18.13)\n",
            "  Using cached traitlets-5.14.3-py3-none-any.whl (85 kB)\n",
            "Requirement already satisfied: exceptiongroup in /usr/local/lib/python3.10/dist-packages (from ipython>=8.10.0->qiskit-serverless==0.12.0->qc-grader==0.18.13) (1.2.1)\n",
            "Requirement already satisfied: pexpect>4.3 in /usr/local/lib/python3.10/dist-packages (from ipython>=8.10.0->qiskit-serverless==0.12.0->qc-grader==0.18.13) (4.9.0)\n",
            "Collecting comm>=0.1.3 (from ipywidgets>=8.1.2->qiskit-serverless==0.12.0->qc-grader==0.18.13)\n",
            "  Using cached comm-0.2.2-py3-none-any.whl (7.2 kB)\n",
            "Collecting widgetsnbextension~=4.0.11 (from ipywidgets>=8.1.2->qiskit-serverless==0.12.0->qc-grader==0.18.13)\n",
            "  Using cached widgetsnbextension-4.0.11-py3-none-any.whl (2.3 MB)\n",
            "Requirement already satisfied: jupyterlab-widgets~=3.0.11 in /usr/local/lib/python3.10/dist-packages (from ipywidgets>=8.1.2->qiskit-serverless==0.12.0->qc-grader==0.18.13) (3.0.11)\n",
            "Requirement already satisfied: contourpy>=1.0.1 in /usr/local/lib/python3.10/dist-packages (from matplotlib>=3.3->qiskit[visualization]==1.0.2->qc-grader==0.18.13) (1.2.1)\n",
            "Requirement already satisfied: cycler>=0.10 in /usr/local/lib/python3.10/dist-packages (from matplotlib>=3.3->qiskit[visualization]==1.0.2->qc-grader==0.18.13) (0.12.1)\n",
            "Requirement already satisfied: fonttools>=4.22.0 in /usr/local/lib/python3.10/dist-packages (from matplotlib>=3.3->qiskit[visualization]==1.0.2->qc-grader==0.18.13) (4.53.0)\n",
            "Requirement already satisfied: kiwisolver>=1.0.1 in /usr/local/lib/python3.10/dist-packages (from matplotlib>=3.3->qiskit[visualization]==1.0.2->qc-grader==0.18.13) (1.4.5)\n",
            "Requirement already satisfied: pyparsing>=2.3.1 in /usr/local/lib/python3.10/dist-packages (from matplotlib>=3.3->qiskit[visualization]==1.0.2->qc-grader==0.18.13) (3.1.2)\n",
            "Collecting deprecated>=1.2.6 (from opentelemetry-api>=1.18.0->qiskit-serverless==0.12.0->qc-grader==0.18.13)\n",
            "  Using cached Deprecated-1.2.14-py2.py3-none-any.whl (9.6 kB)\n",
            "Requirement already satisfied: googleapis-common-protos~=1.52 in /usr/local/lib/python3.10/dist-packages (from opentelemetry-exporter-otlp-proto-grpc>=1.18.0->qiskit-serverless==0.12.0->qc-grader==0.18.13) (1.63.1)\n",
            "Requirement already satisfied: grpcio<2.0.0,>=1.0.0 in /usr/local/lib/python3.10/dist-packages (from opentelemetry-exporter-otlp-proto-grpc>=1.18.0->qiskit-serverless==0.12.0->qc-grader==0.18.13) (1.64.1)\n",
            "Collecting opentelemetry-exporter-otlp-proto-common==1.25.0 (from opentelemetry-exporter-otlp-proto-grpc>=1.18.0->qiskit-serverless==0.12.0->qc-grader==0.18.13)\n",
            "  Using cached opentelemetry_exporter_otlp_proto_common-1.25.0-py3-none-any.whl (17 kB)\n",
            "Collecting opentelemetry-proto==1.25.0 (from opentelemetry-exporter-otlp-proto-grpc>=1.18.0->qiskit-serverless==0.12.0->qc-grader==0.18.13)\n",
            "  Using cached opentelemetry_proto-1.25.0-py3-none-any.whl (52 kB)\n",
            "Requirement already satisfied: protobuf<5.0,>=3.19 in /usr/local/lib/python3.10/dist-packages (from opentelemetry-proto==1.25.0->opentelemetry-exporter-otlp-proto-grpc>=1.18.0->qiskit-serverless==0.12.0->qc-grader==0.18.13) (3.20.3)\n",
            "Collecting opentelemetry-instrumentation==0.46b0 (from opentelemetry.instrumentation.requests>=0.40b0->qiskit-serverless==0.12.0->qc-grader==0.18.13)\n",
            "  Using cached opentelemetry_instrumentation-0.46b0-py3-none-any.whl (29 kB)\n",
            "Collecting opentelemetry-semantic-conventions==0.46b0 (from opentelemetry.instrumentation.requests>=0.40b0->qiskit-serverless==0.12.0->qc-grader==0.18.13)\n",
            "  Using cached opentelemetry_semantic_conventions-0.46b0-py3-none-any.whl (130 kB)\n",
            "Collecting opentelemetry-util-http==0.46b0 (from opentelemetry.instrumentation.requests>=0.40b0->qiskit-serverless==0.12.0->qc-grader==0.18.13)\n",
            "  Using cached opentelemetry_util_http-0.46b0-py3-none-any.whl (6.9 kB)\n",
            "Requirement already satisfied: setuptools>=16.0 in /usr/local/lib/python3.10/dist-packages (from opentelemetry-instrumentation==0.46b0->opentelemetry.instrumentation.requests>=0.40b0->qiskit-serverless==0.12.0->qc-grader==0.18.13) (67.7.2)\n",
            "Requirement already satisfied: wrapt<2.0.0,>=1.0.0 in /usr/local/lib/python3.10/dist-packages (from opentelemetry-instrumentation==0.46b0->opentelemetry.instrumentation.requests>=0.40b0->qiskit-serverless==0.12.0->qc-grader==0.18.13) (1.14.1)\n",
            "Requirement already satisfied: six>=1.5 in /usr/local/lib/python3.10/dist-packages (from python-dateutil>=2.8.0->qiskit[visualization]==1.0.2->qc-grader==0.18.13) (1.16.0)\n",
            "Collecting websockets>=10.0 (from qiskit-ibm-provider>=0.10.0->qiskit-serverless==0.12.0->qc-grader==0.18.13)\n",
            "  Using cached websockets-12.0-cp310-cp310-manylinux_2_5_x86_64.manylinux1_x86_64.manylinux_2_17_x86_64.manylinux2014_x86_64.whl (130 kB)\n",
            "Requirement already satisfied: openqasm3[parser]<0.6,>=0.4 in /usr/local/lib/python3.10/dist-packages (from qiskit-qasm3-import~=0.4->qiskit-transpiler-service->qc-grader==0.18.13) (0.5.0)\n",
            "Requirement already satisfied: click>=7.0 in /usr/local/lib/python3.10/dist-packages (from ray[data,default]<3,>=2.9.3->qiskit-serverless==0.12.0->qc-grader==0.18.13) (8.1.7)\n",
            "Requirement already satisfied: filelock in /usr/local/lib/python3.10/dist-packages (from ray[data,default]<3,>=2.9.3->qiskit-serverless==0.12.0->qc-grader==0.18.13) (3.14.0)\n",
            "Requirement already satisfied: jsonschema in /usr/local/lib/python3.10/dist-packages (from ray[data,default]<3,>=2.9.3->qiskit-serverless==0.12.0->qc-grader==0.18.13) (4.19.2)\n",
            "Requirement already satisfied: msgpack<2.0.0,>=1.0.0 in /usr/local/lib/python3.10/dist-packages (from ray[data,default]<3,>=2.9.3->qiskit-serverless==0.12.0->qc-grader==0.18.13) (1.0.8)\n",
            "Requirement already satisfied: pyyaml in /usr/local/lib/python3.10/dist-packages (from ray[data,default]<3,>=2.9.3->qiskit-serverless==0.12.0->qc-grader==0.18.13) (6.0.1)\n",
            "Requirement already satisfied: aiosignal in /usr/local/lib/python3.10/dist-packages (from ray[data,default]<3,>=2.9.3->qiskit-serverless==0.12.0->qc-grader==0.18.13) (1.3.1)\n",
            "Requirement already satisfied: frozenlist in /usr/local/lib/python3.10/dist-packages (from ray[data,default]<3,>=2.9.3->qiskit-serverless==0.12.0->qc-grader==0.18.13) (1.4.1)\n",
            "Requirement already satisfied: aiohttp>=3.7 in /usr/local/lib/python3.10/dist-packages (from ray[data,default]<3,>=2.9.3->qiskit-serverless==0.12.0->qc-grader==0.18.13) (3.9.5)\n",
            "Collecting aiohttp-cors (from ray[data,default]<3,>=2.9.3->qiskit-serverless==0.12.0->qc-grader==0.18.13)\n",
            "  Using cached aiohttp_cors-0.7.0-py3-none-any.whl (27 kB)\n",
            "Collecting colorful (from ray[data,default]<3,>=2.9.3->qiskit-serverless==0.12.0->qc-grader==0.18.13)\n",
            "  Using cached colorful-0.5.6-py2.py3-none-any.whl (201 kB)\n",
            "Collecting py-spy>=0.2.0 (from ray[data,default]<3,>=2.9.3->qiskit-serverless==0.12.0->qc-grader==0.18.13)\n",
            "  Using cached py_spy-0.3.14-py2.py3-none-manylinux_2_5_x86_64.manylinux1_x86_64.whl (3.0 MB)\n",
            "Collecting opencensus (from ray[data,default]<3,>=2.9.3->qiskit-serverless==0.12.0->qc-grader==0.18.13)\n",
            "  Using cached opencensus-0.11.4-py2.py3-none-any.whl (128 kB)\n",
            "Requirement already satisfied: prometheus-client>=0.7.1 in /usr/local/lib/python3.10/dist-packages (from ray[data,default]<3,>=2.9.3->qiskit-serverless==0.12.0->qc-grader==0.18.13) (0.20.0)\n",
            "Requirement already satisfied: smart-open in /usr/local/lib/python3.10/dist-packages (from ray[data,default]<3,>=2.9.3->qiskit-serverless==0.12.0->qc-grader==0.18.13) (7.0.4)\n",
            "Collecting virtualenv!=20.21.1,>=20.0.24 (from ray[data,default]<3,>=2.9.3->qiskit-serverless==0.12.0->qc-grader==0.18.13)\n",
            "  Using cached virtualenv-20.26.2-py3-none-any.whl (3.9 MB)\n",
            "Collecting memray (from ray[data,default]<3,>=2.9.3->qiskit-serverless==0.12.0->qc-grader==0.18.13)\n",
            "  Using cached memray-1.12.0-cp310-cp310-manylinux_2_12_x86_64.manylinux2010_x86_64.whl (3.5 MB)\n",
            "Requirement already satisfied: pandas>=1.3 in /usr/local/lib/python3.10/dist-packages (from ray[data,default]<3,>=2.9.3->qiskit-serverless==0.12.0->qc-grader==0.18.13) (2.0.3)\n",
            "Requirement already satisfied: pyarrow>=6.0.1 in /usr/local/lib/python3.10/dist-packages (from ray[data,default]<3,>=2.9.3->qiskit-serverless==0.12.0->qc-grader==0.18.13) (14.0.2)\n",
            "Requirement already satisfied: fsspec in /usr/local/lib/python3.10/dist-packages (from ray[data,default]<3,>=2.9.3->qiskit-serverless==0.12.0->qc-grader==0.18.13) (2023.6.0)\n",
            "Requirement already satisfied: annotated-types>=0.4.0 in /usr/local/lib/python3.10/dist-packages (from pydantic->qiskit-ibm-runtime->qc-grader==0.18.13) (0.7.0)\n",
            "Requirement already satisfied: pydantic-core==2.18.4 in /usr/local/lib/python3.10/dist-packages (from pydantic->qiskit-ibm-runtime->qc-grader==0.18.13) (2.18.4)\n",
            "Requirement already satisfied: charset-normalizer<4,>=2 in /usr/local/lib/python3.10/dist-packages (from requests>=2.32.2->qiskit-serverless==0.12.0->qc-grader==0.18.13) (3.3.2)\n",
            "Requirement already satisfied: idna<4,>=2.5 in /usr/local/lib/python3.10/dist-packages (from requests>=2.32.2->qiskit-serverless==0.12.0->qc-grader==0.18.13) (3.7)\n",
            "Requirement already satisfied: certifi>=2017.4.17 in /usr/local/lib/python3.10/dist-packages (from requests>=2.32.2->qiskit-serverless==0.12.0->qc-grader==0.18.13) (2024.6.2)\n",
            "Requirement already satisfied: cryptography>=1.3 in /usr/local/lib/python3.10/dist-packages (from requests-ntlm>=1.1.0->qiskit-ibm-runtime->qc-grader==0.18.13) (42.0.8)\n",
            "Requirement already satisfied: pyspnego>=0.4.0 in /usr/local/lib/python3.10/dist-packages (from requests-ntlm>=1.1.0->qiskit-ibm-runtime->qc-grader==0.18.13) (0.11.0)\n",
            "Collecting aiobotocore<3.0.0,>=2.5.4 (from s3fs>=2023.6.0->qiskit-serverless==0.12.0->qc-grader==0.18.13)\n",
            "  Using cached aiobotocore-2.13.0-py3-none-any.whl (76 kB)\n",
            "Collecting fsspec (from ray[data,default]<3,>=2.9.3->qiskit-serverless==0.12.0->qc-grader==0.18.13)\n",
            "  Using cached fsspec-2024.6.0-py3-none-any.whl (176 kB)\n",
            "Requirement already satisfied: pbr!=2.1.0,>=2.0.0 in /usr/local/lib/python3.10/dist-packages (from stevedore>=3.0.0->qiskit[visualization]==1.0.2->qc-grader==0.18.13) (6.0.0)\n",
            "Requirement already satisfied: mpmath<1.4.0,>=1.1.0 in /usr/local/lib/python3.10/dist-packages (from sympy>=1.3->qiskit[visualization]==1.0.2->qc-grader==0.18.13) (1.3.0)\n",
            "Collecting botocore<1.34.107,>=1.34.70 (from aiobotocore<3.0.0,>=2.5.4->s3fs>=2023.6.0->qiskit-serverless==0.12.0->qc-grader==0.18.13)\n",
            "  Using cached botocore-1.34.106-py3-none-any.whl (12.2 MB)\n",
            "Collecting aioitertools<1.0.0,>=0.5.1 (from aiobotocore<3.0.0,>=2.5.4->s3fs>=2023.6.0->qiskit-serverless==0.12.0->qc-grader==0.18.13)\n",
            "  Using cached aioitertools-0.11.0-py3-none-any.whl (23 kB)\n",
            "Requirement already satisfied: attrs>=17.3.0 in /usr/local/lib/python3.10/dist-packages (from aiohttp>=3.7->ray[data,default]<3,>=2.9.3->qiskit-serverless==0.12.0->qc-grader==0.18.13) (23.2.0)\n",
            "Requirement already satisfied: multidict<7.0,>=4.5 in /usr/local/lib/python3.10/dist-packages (from aiohttp>=3.7->ray[data,default]<3,>=2.9.3->qiskit-serverless==0.12.0->qc-grader==0.18.13) (6.0.5)\n",
            "Requirement already satisfied: yarl<2.0,>=1.0 in /usr/local/lib/python3.10/dist-packages (from aiohttp>=3.7->ray[data,default]<3,>=2.9.3->qiskit-serverless==0.12.0->qc-grader==0.18.13) (1.9.4)\n",
            "Requirement already satisfied: async-timeout<5.0,>=4.0 in /usr/local/lib/python3.10/dist-packages (from aiohttp>=3.7->ray[data,default]<3,>=2.9.3->qiskit-serverless==0.12.0->qc-grader==0.18.13) (4.0.3)\n",
            "Requirement already satisfied: cffi>=1.12 in /usr/local/lib/python3.10/dist-packages (from cryptography>=1.3->requests-ntlm>=1.1.0->qiskit-ibm-runtime->qc-grader==0.18.13) (1.16.0)\n",
            "Collecting requests>=2.32.2 (from qiskit-serverless==0.12.0->qc-grader==0.18.13)\n",
            "  Using cached requests-2.32.2-py3-none-any.whl (63 kB)\n",
            "Requirement already satisfied: PyJWT<3.0.0,>=2.8.0 in /usr/local/lib/python3.10/dist-packages (from ibm-cloud-sdk-core<4.0.0,>=3.19.2->ibm-platform-services>=0.22.6->qiskit-ibm-runtime->qc-grader==0.18.13) (2.8.0)\n",
            "Requirement already satisfied: parso<0.9.0,>=0.8.3 in /usr/local/lib/python3.10/dist-packages (from jedi>=0.16->ipython>=8.10.0->qiskit-serverless==0.12.0->qc-grader==0.18.13) (0.8.4)\n",
            "Requirement already satisfied: antlr4-python3-runtime<4.14,>=4.7 in /usr/local/lib/python3.10/dist-packages (from openqasm3[parser]<0.6,>=0.4->qiskit-qasm3-import~=0.4->qiskit-transpiler-service->qc-grader==0.18.13) (4.13.1)\n",
            "Requirement already satisfied: pytz>=2020.1 in /usr/local/lib/python3.10/dist-packages (from pandas>=1.3->ray[data,default]<3,>=2.9.3->qiskit-serverless==0.12.0->qc-grader==0.18.13) (2023.4)\n",
            "Requirement already satisfied: tzdata>=2022.1 in /usr/local/lib/python3.10/dist-packages (from pandas>=1.3->ray[data,default]<3,>=2.9.3->qiskit-serverless==0.12.0->qc-grader==0.18.13) (2024.1)\n",
            "Requirement already satisfied: ptyprocess>=0.5 in /usr/local/lib/python3.10/dist-packages (from pexpect>4.3->ipython>=8.10.0->qiskit-serverless==0.12.0->qc-grader==0.18.13) (0.7.0)\n",
            "Requirement already satisfied: wcwidth in /usr/local/lib/python3.10/dist-packages (from prompt-toolkit<3.1.0,>=3.0.41->ipython>=8.10.0->qiskit-serverless==0.12.0->qc-grader==0.18.13) (0.2.13)\n",
            "Collecting distlib<1,>=0.3.7 (from virtualenv!=20.21.1,>=20.0.24->ray[data,default]<3,>=2.9.3->qiskit-serverless==0.12.0->qc-grader==0.18.13)\n",
            "  Using cached distlib-0.3.8-py2.py3-none-any.whl (468 kB)\n",
            "Requirement already satisfied: platformdirs<5,>=3.9.1 in /usr/local/lib/python3.10/dist-packages (from virtualenv!=20.21.1,>=20.0.24->ray[data,default]<3,>=2.9.3->qiskit-serverless==0.12.0->qc-grader==0.18.13) (4.2.2)\n",
            "Requirement already satisfied: jsonschema-specifications>=2023.03.6 in /usr/local/lib/python3.10/dist-packages (from jsonschema->ray[data,default]<3,>=2.9.3->qiskit-serverless==0.12.0->qc-grader==0.18.13) (2023.12.1)\n",
            "Requirement already satisfied: referencing>=0.28.4 in /usr/local/lib/python3.10/dist-packages (from jsonschema->ray[data,default]<3,>=2.9.3->qiskit-serverless==0.12.0->qc-grader==0.18.13) (0.35.1)\n",
            "Requirement already satisfied: rpds-py>=0.7.1 in /usr/local/lib/python3.10/dist-packages (from jsonschema->ray[data,default]<3,>=2.9.3->qiskit-serverless==0.12.0->qc-grader==0.18.13) (0.18.1)\n",
            "Requirement already satisfied: jinja2>=2.9 in /usr/local/lib/python3.10/dist-packages (from memray->ray[data,default]<3,>=2.9.3->qiskit-serverless==0.12.0->qc-grader==0.18.13) (3.1.4)\n",
            "Requirement already satisfied: rich>=11.2.0 in /usr/local/lib/python3.10/dist-packages (from memray->ray[data,default]<3,>=2.9.3->qiskit-serverless==0.12.0->qc-grader==0.18.13) (13.7.1)\n",
            "Collecting textual>=0.41.0 (from memray->ray[data,default]<3,>=2.9.3->qiskit-serverless==0.12.0->qc-grader==0.18.13)\n",
            "  Using cached textual-0.67.1-py3-none-any.whl (561 kB)\n",
            "Collecting opencensus-context>=0.1.3 (from opencensus->ray[data,default]<3,>=2.9.3->qiskit-serverless==0.12.0->qc-grader==0.18.13)\n",
            "  Using cached opencensus_context-0.1.3-py2.py3-none-any.whl (5.1 kB)\n",
            "Requirement already satisfied: google-api-core<3.0.0,>=1.0.0 in /usr/local/lib/python3.10/dist-packages (from opencensus->ray[data,default]<3,>=2.9.3->qiskit-serverless==0.12.0->qc-grader==0.18.13) (2.11.1)\n",
            "Collecting executing>=1.2.0 (from stack-data->ipython>=8.10.0->qiskit-serverless==0.12.0->qc-grader==0.18.13)\n",
            "  Using cached executing-2.0.1-py2.py3-none-any.whl (24 kB)\n",
            "Collecting asttokens>=2.1.0 (from stack-data->ipython>=8.10.0->qiskit-serverless==0.12.0->qc-grader==0.18.13)\n",
            "  Using cached asttokens-2.4.1-py2.py3-none-any.whl (27 kB)\n",
            "Collecting pure-eval (from stack-data->ipython>=8.10.0->qiskit-serverless==0.12.0->qc-grader==0.18.13)\n",
            "  Using cached pure_eval-0.2.2-py3-none-any.whl (11 kB)\n",
            "Collecting jmespath<2.0.0,>=0.7.1 (from botocore<1.34.107,>=1.34.70->aiobotocore<3.0.0,>=2.5.4->s3fs>=2023.6.0->qiskit-serverless==0.12.0->qc-grader==0.18.13)\n",
            "  Using cached jmespath-1.0.1-py3-none-any.whl (20 kB)\n",
            "Requirement already satisfied: pycparser in /usr/local/lib/python3.10/dist-packages (from cffi>=1.12->cryptography>=1.3->requests-ntlm>=1.1.0->qiskit-ibm-runtime->qc-grader==0.18.13) (2.22)\n",
            "Requirement already satisfied: google-auth<3.0.dev0,>=2.14.1 in /usr/local/lib/python3.10/dist-packages (from google-api-core<3.0.0,>=1.0.0->opencensus->ray[data,default]<3,>=2.9.3->qiskit-serverless==0.12.0->qc-grader==0.18.13) (2.27.0)\n",
            "Requirement already satisfied: MarkupSafe>=2.0 in /usr/local/lib/python3.10/dist-packages (from jinja2>=2.9->memray->ray[data,default]<3,>=2.9.3->qiskit-serverless==0.12.0->qc-grader==0.18.13) (2.1.5)\n",
            "Requirement already satisfied: markdown-it-py>=2.2.0 in /usr/local/lib/python3.10/dist-packages (from rich>=11.2.0->memray->ray[data,default]<3,>=2.9.3->qiskit-serverless==0.12.0->qc-grader==0.18.13) (3.0.0)\n",
            "Requirement already satisfied: cachetools<6.0,>=2.0.0 in /usr/local/lib/python3.10/dist-packages (from google-auth<3.0.dev0,>=2.14.1->google-api-core<3.0.0,>=1.0.0->opencensus->ray[data,default]<3,>=2.9.3->qiskit-serverless==0.12.0->qc-grader==0.18.13) (5.3.3)\n",
            "Requirement already satisfied: pyasn1-modules>=0.2.1 in /usr/local/lib/python3.10/dist-packages (from google-auth<3.0.dev0,>=2.14.1->google-api-core<3.0.0,>=1.0.0->opencensus->ray[data,default]<3,>=2.9.3->qiskit-serverless==0.12.0->qc-grader==0.18.13) (0.4.0)\n",
            "Requirement already satisfied: rsa<5,>=3.1.4 in /usr/local/lib/python3.10/dist-packages (from google-auth<3.0.dev0,>=2.14.1->google-api-core<3.0.0,>=1.0.0->opencensus->ray[data,default]<3,>=2.9.3->qiskit-serverless==0.12.0->qc-grader==0.18.13) (4.9)\n",
            "Requirement already satisfied: mdurl~=0.1 in /usr/local/lib/python3.10/dist-packages (from markdown-it-py>=2.2.0->rich>=11.2.0->memray->ray[data,default]<3,>=2.9.3->qiskit-serverless==0.12.0->qc-grader==0.18.13) (0.1.2)\n",
            "Requirement already satisfied: mdit-py-plugins in /usr/local/lib/python3.10/dist-packages (from markdown-it-py>=2.2.0->rich>=11.2.0->memray->ray[data,default]<3,>=2.9.3->qiskit-serverless==0.12.0->qc-grader==0.18.13) (0.4.1)\n",
            "Requirement already satisfied: linkify-it-py<3,>=1 in /usr/local/lib/python3.10/dist-packages (from markdown-it-py>=2.2.0->rich>=11.2.0->memray->ray[data,default]<3,>=2.9.3->qiskit-serverless==0.12.0->qc-grader==0.18.13) (2.0.3)\n",
            "Requirement already satisfied: uc-micro-py in /usr/local/lib/python3.10/dist-packages (from linkify-it-py<3,>=1->markdown-it-py>=2.2.0->rich>=11.2.0->memray->ray[data,default]<3,>=2.9.3->qiskit-serverless==0.12.0->qc-grader==0.18.13) (1.0.3)\n",
            "Requirement already satisfied: pyasn1<0.7.0,>=0.4.6 in /usr/local/lib/python3.10/dist-packages (from pyasn1-modules>=0.2.1->google-auth<3.0.dev0,>=2.14.1->google-api-core<3.0.0,>=1.0.0->opencensus->ray[data,default]<3,>=2.9.3->qiskit-serverless==0.12.0->qc-grader==0.18.13) (0.6.0)\n",
            "Building wheels for collected packages: qc-grader\n",
            "  Building wheel for qc-grader (setup.py) ... \u001b[?25l\u001b[?25hdone\n",
            "  Created wheel for qc-grader: filename=qc_grader-0.18.13-py3-none-any.whl size=35698 sha256=8af6e351fc29bf8bdfb65a87f72432db28bb527ae667e7412d0569242a91c9a6\n",
            "  Stored in directory: /tmp/pip-ephem-wheel-cache-bht7i3jz/wheels/7e/67/91/88d6a5b4dd4beb318ed4e79c807e2be98b7d3c2ea66565a116\n",
            "Successfully built qc-grader\n",
            "Installing collected packages: py-spy, pure-eval, opencensus-context, distlib, colorful, widgetsnbextension, websockets, virtualenv, typeguard, traitlets, spectate, requests, opentelemetry-util-http, opentelemetry-proto, networkx, jsonpickle, jmespath, jedi, fsspec, executing, deprecated, asttokens, aioitertools, stack-data, opentelemetry-exporter-otlp-proto-common, opentelemetry-api, comm, botocore, opentelemetry-semantic-conventions, opentelemetry-instrumentation, ipython, aiohttp-cors, aiobotocore, textual, s3fs, ray, opentelemetry-sdk, opentelemetry.instrumentation.requests, opencensus, ipywidgets, qiskit-ibm-runtime, qiskit-ibm-provider, opentelemetry-exporter-otlp-proto-grpc, memray, ipycytoscape, circuit-knitting-toolbox, qiskit-serverless, qc-grader\n",
            "  Attempting uninstall: widgetsnbextension\n",
            "    Found existing installation: widgetsnbextension 3.6.6\n",
            "    Uninstalling widgetsnbextension-3.6.6:\n",
            "      Successfully uninstalled widgetsnbextension-3.6.6\n",
            "  Attempting uninstall: traitlets\n",
            "    Found existing installation: traitlets 5.7.1\n",
            "    Uninstalling traitlets-5.7.1:\n",
            "      Successfully uninstalled traitlets-5.7.1\n",
            "  Attempting uninstall: requests\n",
            "    Found existing installation: requests 2.31.0\n",
            "    Uninstalling requests-2.31.0:\n",
            "      Successfully uninstalled requests-2.31.0\n",
            "  Attempting uninstall: networkx\n",
            "    Found existing installation: networkx 3.3\n",
            "    Uninstalling networkx-3.3:\n",
            "      Successfully uninstalled networkx-3.3\n",
            "  Attempting uninstall: jsonpickle\n",
            "    Found existing installation: jsonpickle 3.2.1\n",
            "    Uninstalling jsonpickle-3.2.1:\n",
            "      Successfully uninstalled jsonpickle-3.2.1\n",
            "  Attempting uninstall: fsspec\n",
            "    Found existing installation: fsspec 2023.6.0\n",
            "    Uninstalling fsspec-2023.6.0:\n",
            "      Successfully uninstalled fsspec-2023.6.0\n",
            "  Attempting uninstall: ipython\n",
            "    Found existing installation: ipython 7.34.0\n",
            "    Uninstalling ipython-7.34.0:\n",
            "      Successfully uninstalled ipython-7.34.0\n",
            "  Attempting uninstall: ipywidgets\n",
            "    Found existing installation: ipywidgets 7.7.1\n",
            "    Uninstalling ipywidgets-7.7.1:\n",
            "      Successfully uninstalled ipywidgets-7.7.1\n",
            "  Attempting uninstall: qiskit-ibm-runtime\n",
            "    Found existing installation: qiskit-ibm-runtime 0.24.0\n",
            "    Uninstalling qiskit-ibm-runtime-0.24.0:\n",
            "      Successfully uninstalled qiskit-ibm-runtime-0.24.0\n",
            "\u001b[31mERROR: pip's dependency resolver does not currently take into account all the packages that are installed. This behaviour is the source of the following dependency conflicts.\n",
            "torch 2.3.0+cu121 requires nvidia-cublas-cu12==12.1.3.1; platform_system == \"Linux\" and platform_machine == \"x86_64\", which is not installed.\n",
            "torch 2.3.0+cu121 requires nvidia-cuda-cupti-cu12==12.1.105; platform_system == \"Linux\" and platform_machine == \"x86_64\", which is not installed.\n",
            "torch 2.3.0+cu121 requires nvidia-cuda-nvrtc-cu12==12.1.105; platform_system == \"Linux\" and platform_machine == \"x86_64\", which is not installed.\n",
            "torch 2.3.0+cu121 requires nvidia-cuda-runtime-cu12==12.1.105; platform_system == \"Linux\" and platform_machine == \"x86_64\", which is not installed.\n",
            "torch 2.3.0+cu121 requires nvidia-cudnn-cu12==8.9.2.26; platform_system == \"Linux\" and platform_machine == \"x86_64\", which is not installed.\n",
            "torch 2.3.0+cu121 requires nvidia-cufft-cu12==11.0.2.54; platform_system == \"Linux\" and platform_machine == \"x86_64\", which is not installed.\n",
            "torch 2.3.0+cu121 requires nvidia-curand-cu12==10.3.2.106; platform_system == \"Linux\" and platform_machine == \"x86_64\", which is not installed.\n",
            "torch 2.3.0+cu121 requires nvidia-cusolver-cu12==11.4.5.107; platform_system == \"Linux\" and platform_machine == \"x86_64\", which is not installed.\n",
            "torch 2.3.0+cu121 requires nvidia-cusparse-cu12==12.1.0.106; platform_system == \"Linux\" and platform_machine == \"x86_64\", which is not installed.\n",
            "torch 2.3.0+cu121 requires nvidia-nccl-cu12==2.20.5; platform_system == \"Linux\" and platform_machine == \"x86_64\", which is not installed.\n",
            "torch 2.3.0+cu121 requires nvidia-nvtx-cu12==12.1.105; platform_system == \"Linux\" and platform_machine == \"x86_64\", which is not installed.\n",
            "gcsfs 2023.6.0 requires fsspec==2023.6.0, but you have fsspec 2024.6.0 which is incompatible.\n",
            "google-colab 1.0.0 requires ipython==7.34.0, but you have ipython 8.25.0 which is incompatible.\n",
            "google-colab 1.0.0 requires requests==2.31.0, but you have requests 2.32.2 which is incompatible.\u001b[0m\u001b[31m\n",
            "\u001b[0mSuccessfully installed aiobotocore-2.13.0 aiohttp-cors-0.7.0 aioitertools-0.11.0 asttokens-2.4.1 botocore-1.34.106 circuit-knitting-toolbox-0.7.2 colorful-0.5.6 comm-0.2.2 deprecated-1.2.14 distlib-0.3.8 executing-2.0.1 fsspec-2024.6.0 ipycytoscape-1.3.3 ipython-8.25.0 ipywidgets-8.1.3 jedi-0.19.1 jmespath-1.0.1 jsonpickle-3.0.3 memray-1.12.0 networkx-3.2.1 opencensus-0.11.4 opencensus-context-0.1.3 opentelemetry-api-1.25.0 opentelemetry-exporter-otlp-proto-common-1.25.0 opentelemetry-exporter-otlp-proto-grpc-1.25.0 opentelemetry-instrumentation-0.46b0 opentelemetry-proto-1.25.0 opentelemetry-sdk-1.25.0 opentelemetry-semantic-conventions-0.46b0 opentelemetry-util-http-0.46b0 opentelemetry.instrumentation.requests-0.46b0 pure-eval-0.2.2 py-spy-0.3.14 qc-grader-0.18.13 qiskit-ibm-provider-0.11.0 qiskit-ibm-runtime-0.23.0 qiskit-serverless-0.12.0 ray-2.24.0 requests-2.32.2 s3fs-2024.6.0 spectate-1.0.1 stack-data-0.6.3 textual-0.67.1 traitlets-5.14.3 typeguard-4.3.0 virtualenv-20.26.2 websockets-12.0 widgetsnbextension-4.0.11\n"
          ]
        },
        {
          "output_type": "display_data",
          "data": {
            "application/vnd.colab-display-data+json": {
              "pip_warning": {
                "packages": [
                  "IPython"
                ]
              },
              "id": "1981c2347ff04b8e9ab3dfc656f63b32"
            }
          },
          "metadata": {}
        }
      ]
    },
    {
      "cell_type": "code",
      "source": [
        "%set_env QXToken=f06ad1af2401203a3c5e8a44f38579610f912742b3e8ee334d8acef3ae82d637ab68eb5ed862d5a5fbdb08531fd8cd887c09a78469df8691ed4bf8774364ca8f\n"
      ],
      "metadata": {
        "id": "WUl6ZCJHXKvY",
        "colab": {
          "base_uri": "https://localhost:8080/"
        },
        "outputId": "a017741e-b44a-40c2-a84a-c600fd69a0f5"
      },
      "execution_count": null,
      "outputs": [
        {
          "output_type": "stream",
          "name": "stdout",
          "text": [
            "env: QXToken=f06ad1af2401203a3c5e8a44f38579610f912742b3e8ee334d8acef3ae82d637ab68eb5ed862d5a5fbdb08531fd8cd887c09a78469df8691ed4bf8774364ca8f\n"
          ]
        }
      ]
    },
    {
      "cell_type": "code",
      "source": [
        "### Imports\n",
        "\n",
        "from qiskit import QuantumCircuit\n",
        "from qiskit.quantum_info import SparsePauliOp\n",
        "from qiskit_ibm_runtime import EstimatorV2 as Estimator\n",
        "from qiskit_aer import AerSimulator\n",
        "import matplotlib.pyplot as plt\n",
        "from qc_grader.challenges.iqc_2024 import grade_lab0_ex1"
      ],
      "metadata": {
        "colab": {
          "base_uri": "https://localhost:8080/",
          "height": 366
        },
        "id": "3mNkGnTQpMFo",
        "outputId": "d37ef731-267b-46c2-8efe-7fe96c934e80"
      },
      "execution_count": null,
      "outputs": [
        {
          "output_type": "error",
          "ename": "ModuleNotFoundError",
          "evalue": "No module named 'qc_grader'",
          "traceback": [
            "\u001b[0;31m---------------------------------------------------------------------------\u001b[0m",
            "\u001b[0;31mModuleNotFoundError\u001b[0m                       Traceback (most recent call last)",
            "\u001b[0;32m<ipython-input-5-dd09a3d34a2f>\u001b[0m in \u001b[0;36m<cell line: 8>\u001b[0;34m()\u001b[0m\n\u001b[1;32m      6\u001b[0m \u001b[0;32mfrom\u001b[0m \u001b[0mqiskit_aer\u001b[0m \u001b[0;32mimport\u001b[0m \u001b[0mAerSimulator\u001b[0m\u001b[0;34m\u001b[0m\u001b[0;34m\u001b[0m\u001b[0m\n\u001b[1;32m      7\u001b[0m \u001b[0;32mimport\u001b[0m \u001b[0mmatplotlib\u001b[0m\u001b[0;34m.\u001b[0m\u001b[0mpyplot\u001b[0m \u001b[0;32mas\u001b[0m \u001b[0mplt\u001b[0m\u001b[0;34m\u001b[0m\u001b[0;34m\u001b[0m\u001b[0m\n\u001b[0;32m----> 8\u001b[0;31m \u001b[0;32mfrom\u001b[0m \u001b[0mqc_grader\u001b[0m\u001b[0;34m.\u001b[0m\u001b[0mchallenges\u001b[0m\u001b[0;34m.\u001b[0m\u001b[0miqc_2024\u001b[0m \u001b[0;32mimport\u001b[0m \u001b[0mgrade_lab0_ex1\u001b[0m\u001b[0;34m\u001b[0m\u001b[0;34m\u001b[0m\u001b[0m\n\u001b[0m",
            "\u001b[0;31mModuleNotFoundError\u001b[0m: No module named 'qc_grader'",
            "",
            "\u001b[0;31m---------------------------------------------------------------------------\u001b[0;32m\nNOTE: If your import is failing due to a missing package, you can\nmanually install dependencies using either !pip or !apt.\n\nTo view examples of installing some common dependencies, click the\n\"Open Examples\" button below.\n\u001b[0;31m---------------------------------------------------------------------------\u001b[0m\n"
          ],
          "errorDetails": {
            "actions": [
              {
                "action": "open_url",
                "actionText": "Open Examples",
                "url": "/notebooks/snippets/importing_libraries.ipynb"
              }
            ]
          }
        }
      ]
    },
    {
      "cell_type": "code",
      "source": [
        "%pip show pylatexenc matplotlib qc_grader\n"
      ],
      "metadata": {
        "colab": {
          "base_uri": "https://localhost:8080/"
        },
        "id": "EqRivrdDpfCV",
        "outputId": "a0123e31-0faf-45c3-e9b2-37294625ed05"
      },
      "execution_count": null,
      "outputs": [
        {
          "output_type": "stream",
          "name": "stdout",
          "text": [
            "\u001b[33mWARNING: Package(s) not found: qc_grader\u001b[0m\u001b[33m\n",
            "\u001b[0mName: pylatexenc\n",
            "Version: 2.10\n",
            "Summary: Simple LaTeX parser providing latex-to-unicode and unicode-to-latex conversion\n",
            "Home-page: https://github.com/phfaist/pylatexenc\n",
            "Author: Philippe Faist\n",
            "Author-email: philippe.faist@bluewin.ch\n",
            "License: MIT\n",
            "Location: /usr/local/lib/python3.10/dist-packages\n",
            "Requires: \n",
            "Required-by: \n",
            "---\n",
            "Name: matplotlib\n",
            "Version: 3.7.1\n",
            "Summary: Python plotting package\n",
            "Home-page: https://matplotlib.org\n",
            "Author: John D. Hunter, Michael Droettboom\n",
            "Author-email: matplotlib-users@python.org\n",
            "License: PSF\n",
            "Location: /usr/local/lib/python3.10/dist-packages\n",
            "Requires: contourpy, cycler, fonttools, kiwisolver, numpy, packaging, pillow, pyparsing, python-dateutil\n",
            "Required-by: arviz, bigframes, datascience, fastai, geemap, imgaug, matplotlib-venn, missingno, mizani, mlxtend, music21, plotnine, prophet, pycocotools, seaborn, wordcloud, yellowbrick\n"
          ]
        }
      ]
    },
    {
      "cell_type": "code",
      "source": [
        "import qiskit\n",
        "qiskit.__version__"
      ],
      "metadata": {
        "colab": {
          "base_uri": "https://localhost:8080/",
          "height": 36
        },
        "id": "rshU1lSwqIGJ",
        "outputId": "523875e4-36b5-4dc4-f648-2f270d39422a"
      },
      "execution_count": null,
      "outputs": [
        {
          "output_type": "execute_result",
          "data": {
            "text/plain": [
              "'1.1.0'"
            ],
            "application/vnd.google.colaboratory.intrinsic+json": {
              "type": "string"
            }
          },
          "metadata": {},
          "execution_count": 1
        }
      ]
    }
  ]
}